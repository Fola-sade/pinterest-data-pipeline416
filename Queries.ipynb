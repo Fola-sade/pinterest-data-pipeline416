{
 "cells": [
  {
   "cell_type": "markdown",
   "metadata": {
    "application/vnd.databricks.v1+cell": {
     "cellMetadata": {},
     "inputWidgets": {},
     "nuid": "c8fd15d0-f39a-47dc-ab4b-1574d9713614",
     "showTitle": false,
     "tableResultSettingsMap": {},
     "title": ""
    }
   },
   "source": [
    "### Milestone 7"
   ]
  },
  {
   "cell_type": "code",
   "execution_count": 0,
   "metadata": {
    "application/vnd.databricks.v1+cell": {
     "cellMetadata": {
      "byteLimit": 2048000,
      "rowLimit": 10000
     },
     "inputWidgets": {},
     "nuid": "7ca10b78-d3d8-429d-a8f7-dd4e516ff843",
     "showTitle": false,
     "tableResultSettingsMap": {},
     "title": ""
    }
   },
   "outputs": [
    {
     "output_type": "display_data",
     "data": {
      "text/html": [
       "<style scoped>\n",
       "  .table-result-container {\n",
       "    max-height: 300px;\n",
       "    overflow: auto;\n",
       "  }\n",
       "  table, th, td {\n",
       "    border: 1px solid black;\n",
       "    border-collapse: collapse;\n",
       "  }\n",
       "  th, td {\n",
       "    padding: 5px;\n",
       "  }\n",
       "  th {\n",
       "    text-align: left;\n",
       "  }\n",
       "</style><div class='table-result-container'><table class='table-result'><thead style='background-color: white'><tr><th>ind</th><th>unique_id</th><th>title</th><th>description</th><th>follower_count</th><th>poster_name</th><th>tag_list</th><th>is_image_or_video</th><th>image_src</th><th>save_location</th><th>category</th></tr></thead><tbody><tr><td>7528</td><td>fbe53c66-3442-4773-b19e-d3ec6f54dddf</td><td>null</td><td>null</td><td>null</td><td>null</td><td>null</td><td>multi-video(story page format)</td><td>null</td><td>/data/mens-fashion</td><td>mens-fashion</td></tr><tr><td>7528</td><td>fbe53c66-3442-4773-b19e-d3ec6f54dddf</td><td>null</td><td>null</td><td>null</td><td>null</td><td>null</td><td>multi-video(story page format)</td><td>null</td><td>/data/mens-fashion</td><td>mens-fashion</td></tr><tr><td>2863</td><td>9bf39437-42a6-4f02-99a0-9a0383d8cd70</td><td>25 Super Fun Summer Crafts for Kids - Of Life and Lisa</td><td>Keep the kids busy this summer with these easy diy crafts and projects. Creative and…</td><td>124000</td><td>Of Life & Lisa | Lifestyle Blog</td><td>Summer Crafts For Kids,Fun Crafts For Kids,Summer Kids,Toddler Crafts,Crafts To Do,Diy For Kids,Summer Snow,Diys For Summer,Craft Ideas For Girls</td><td>image</td><td>https://i.pinimg.com/originals/b3/bc/e2/b3bce2964e8c8975387b39660eed5f16.jpg</td><td>/data/diy-and-crafts</td><td>diy-and-crafts</td></tr><tr><td>5730</td><td>1e1f0c8b-9fcf-460b-9154-c775827206eb</td><td>Island Oasis Coupon Organizer</td><td>Description Coupon Organizer in a fun colorful fabric -island oasis, Great Size for the \"basic\" couponer - holds up to 500 coupons with ease, and is made long enough so that you… </td><td>0</td><td>Consuelo Aguirre</td><td>Grocery Items,Grocery Coupons,Care Organization,Coupon Organization,Extreme Couponing,Couponing 101,Life Binder,Save My Money,Love Coupons</td><td>image</td><td>https://i.pinimg.com/originals/65/bb/ea/65bbeaf458907bb079317d8303c4fa0e.jpg</td><td>/data/finance</td><td>finance</td></tr><tr><td>8304</td><td>5b6d0913-25e4-43ab-839d-85d5516f78a4</td><td>The #1 Reason You’re Not His Priority Anymore - Matthew Coast</td><td>#lovequotes #matchmaker #matchmadeinheaven #loveyourself #respectyourself</td><td>51000</td><td>Commitment Connection</td><td>Wise Quotes,Quotable Quotes,Words Quotes,Wise Words,Quotes To Live By,Great Quotes,Motivational Quotes,Inspirational Quotes,Funny Quotes</td><td>image</td><td>https://i.pinimg.com/originals/c6/64/ee/c664ee71524fb5a6e7b7b49233f93b43.png</td><td>/data/quotes</td><td>quotes</td></tr><tr><td>8731</td><td>ea760f71-febf-4023-b592-d17396659039</td><td>20 Koi Fish Tattoos For Lucky Men</td><td>Koi fish tattoos are a popular choice for men who want to make a statement, thanks to their rich symbolism and bold design.</td><td>211000</td><td>TheTrendSpotter</td><td>Dr Tattoo,Wörter Tattoos,Pisces Tattoos,Tatoo Art,Dream Tattoos,Dope Tattoos,Mini Tattoos,Finger Tattoos,Body Art Tattoos</td><td>image</td><td>https://i.pinimg.com/originals/8a/0c/0a/8a0c0a7b6236565c519acd41ad1a52c0.jpg</td><td>/data/tattoos</td><td>tattoos</td></tr><tr><td>1313</td><td>44662045-e891-4821-8a19-ebe7eedd371a</td><td>Liquid Lash Extensions Mascara</td><td>Instantly create the look of lash extensions with this award-winning, best-selling mascara that won't clump, flake or smudge. Available in 3 shades!</td><td>43000</td><td>Thrive Causemetics</td><td>null</td><td>video</td><td>https://i.pinimg.com/videos/thumbnails/originals/69/84/e2/6984e20f3e262098fa9c0614c3453254.0000001.jpg</td><td>/data/beauty</td><td>beauty</td></tr><tr><td>4315</td><td>21b59ba9-829d-4c33-8c27-4cd4c56d26b8</td><td>Podcasts for Teachers or Parents of Teenagers</td><td>Podcasts for Teachers or Parents of Teenagers: Teaching teens middle school and high school can feel joyful and rewarding most days, but can also frustrate you with one challeng… </td><td>25000</td><td>Math Giraffe</td><td>Middle School Classroom,High School Students,High School Teachers,Middle School Tips,High School Counseling,Ela Classroom,High School Science,Future Classroom,Google Classroom</td><td>image</td><td>https://i.pinimg.com/originals/50/19/31/501931a27ee4d076658980851b995b2c.jpg</td><td>/data/education</td><td>education</td></tr><tr><td>10794</td><td>c4bd2577-a7bb-4409-bb7a-17d5ed7e1cf1</td><td>TireBuyer</td><td>Nissan GT-R. Sick.</td><td>437</td><td>Ray Uyemura</td><td>Lowrider,Old Vintage Cars,Antique Cars,Austin Martin,Nissan Gtr Black,Jaguar,1959 Cadillac,Cadillac Ct6,Old School Cars</td><td>image</td><td>https://i.pinimg.com/originals/0d/29/9f/0d299f3df020395aa7ce8387f40fbeed.jpg</td><td>/data/vehicles</td><td>vehicles</td></tr><tr><td>5494</td><td>8fb2af68-543b-4639-8119-de33d28706ed</td><td>Dave Ramsey's 7 Baby Steps: What Are They And Will They Work For You</td><td>If you love budgeting, make sure to give Dave Ramsey's 7 Baby Steps a try. Follow these steps to begin your debt snowball, build an emergency fund, invest and reach riches. I ca… </td><td>26000</td><td>Living Low Key | Save Money, Make Money, & Frugal Living</td><td>Financial Peace,Financial Tips,Saving Money Quotes,Total Money Makeover,Budgeting Finances,Money Management,Wealth Management,Personal Finance,Making Ideas</td><td>image</td><td>https://i.pinimg.com/originals/1e/9d/90/1e9d906e4e150e3b95187f3b76ea7c71.png</td><td>/data/finance</td><td>finance</td></tr><tr><td>5069</td><td>b75b6f87-deb3-444f-b29e-ce9161b2df49</td><td>The Vault: Curated & Refined Wedding Inspiration</td><td>Sacramento California Wedding 2 Chic Events & Design Jodi Yorston Photography Wilson Vineyards Barn Miosa Couture Yellow Barn Vineyard Outdoor Candles DIY</td><td>6000000</td><td>Style Me Pretty</td><td>60th Anniversary Parties,Anniversary Decorations,Golden Anniversary,25th Wedding Anniversary,Anniversary Pictures,Anniversary Ideas,Birthday Decorations,Event Planning Design,Event Design</td><td>image</td><td>https://i.pinimg.com/originals/7e/45/90/7e45905fefa36347e83333fd6d091140.jpg</td><td>/data/event-planning</td><td>event-planning</td></tr><tr><td>2923</td><td>52fa3af5-24a4-4ccb-8f17-9c3eb12327ee</td><td>UFO Paper Plate Craft</td><td>A fun space activity for kids. Preshoolers and kindergartners will love making their own alien spacecraft!</td><td>192000</td><td>The Crafting Chicks</td><td>Paper Plate Crafts For Kids,Fun Crafts For Kids,Summer Crafts,Toddler Crafts,Art For Kids,Outer Space Crafts For Kids,Kid Crafts,Space Kids,Back To School Crafts For Kids</td><td>image</td><td>https://i.pinimg.com/originals/6f/e8/aa/6fe8aa405513c6d2f77b5f47d17cdce8.jpg</td><td>/data/diy-and-crafts</td><td>diy-and-crafts</td></tr><tr><td>3089</td><td>88f9227e-88d0-4b1c-b0be-bcfc3028b8e2</td><td>null</td><td>null</td><td>null</td><td>null</td><td>null</td><td>multi-video(story page format)</td><td>null</td><td>/data/diy-and-crafts</td><td>diy-and-crafts</td></tr><tr><td>6063</td><td>60693727-4927-4bd6-a8c5-096a392d63e6</td><td>41 Gorgeous Fall Decor Ideas For Your Home - Chaylor & Mads</td><td>Beautiful and easy ways to update every room in your home with fall decor. Plus, my favorite finds in fall decor for 2020!</td><td>92000</td><td>Kristen | Lifestyle, Mom Tips & Teacher Stuff Blog</td><td>Fall Home Decor,Autumn Home,Fall Decor Outdoor,Front Porch Fall Decor,Home Decor Ideas,Porch Ideas For Fall,Fall Outdoor Decorating,Decorating Ideas For Fall,Fall Front Doors</td><td>image</td><td>https://i.pinimg.com/originals/e5/ae/dc/e5aedc14ce557e3a69f672e0f8c88f6e.png</td><td>/data/home-decor</td><td>home-decor</td></tr><tr><td>3454</td><td>46bd3f86-b09d-4e29-9033-7ff2df595e51</td><td>What can you use to color resin?</td><td>HELPFUL RESOURCES – Check out my resin colorants resources page here with links to all the products mentioned in this article (and more). Let me know if you have any that you lo… </td><td>6000</td><td>Mixed Media Crafts</td><td>Epoxy Resin Art,Diy Resin Art,Diy Resin Crafts,Resin Molds,Ice Resin,Resin Pour,Diy Epoxy,Diy Resin Painting,Diy Resin Dice</td><td>image</td><td>https://i.pinimg.com/originals/d4/12/78/d4127833023ca32600571ddca16f1556.jpg</td><td>/data/diy-and-crafts</td><td>diy-and-crafts</td></tr><tr><td>7554</td><td>c6fa12f4-0d4a-4b07-a335-5bf9f37f8281</td><td>Craig Style</td><td>imgentleboss: “ - More about men’s fashion at @Gentleboss - GB’s Facebook - ”</td><td>940</td><td>iElylike ..✿◕‿◕✿ஐ✿◕‿◕✿</td><td>Mens Fashion Blog,Look Fashion,Autumn Fashion,Fashion News,Fashion Sale,80s Fashion,Paris Fashion,Runway Fashion,Fashion Trends</td><td>image</td><td>https://i.pinimg.com/originals/e7/6e/8e/e76e8ed6cc838b84a934c6948a5caff7.jpg</td><td>/data/mens-fashion</td><td>mens-fashion</td></tr><tr><td>6145</td><td>82e13a07-db99-43a3-b1c0-89a4b75821da</td><td>HOLIDAY MANTLE DECOR - @AMAZON & @TARGET FINDS</td><td>Holiday mantle decor, Christmas decor, metallic mercury glass style Christmas trees, eucalyptus vine, evergreen pine branches, white neutral holiday decor, cozy mantle for the h… </td><td>83000</td><td>Stylin by Aylin</td><td>Winter Home Decor,Christmas Living Room Decor,Living Room Decor Cozy,Christmas Decor,Cozy Fireplace,Rustic Fireplace Decor,Fireplace Decorations,Rustic Room,House Decorations</td><td>image</td><td>https://i.pinimg.com/originals/9d/82/1a/9d821a80acd8f90c16454e978bd9b115.jpg</td><td>/data/home-decor</td><td>home-decor</td></tr><tr><td>10625</td><td>d31885b7-742a-4e2a-bbb7-ac5f9d334340</td><td>Jaguar Type E</td><td>1937 Jaguar SS100 - 2 1/2 Litre Roadster, one of the most sought after pre-war sports cars</td><td>8000</td><td>hobbyDB</td><td>Jaguar Type E,Jaguar Xk,Jaguar Cars,Jaguar Roadster,Jaguar Sport,Retro Cars,Vintage Cars,Antique Cars,British Sports Cars</td><td>image</td><td>https://i.pinimg.com/originals/26/81/a7/2681a71bd0c8f7fd0ab79c455338a49a.jpg</td><td>/data/vehicles</td><td>vehicles</td></tr><tr><td>2959</td><td>439cac4b-18e8-4aaa-88c5-edb26a701111</td><td>The Cutest Toilet Paper Crafts</td><td>One thing I love about Crafts is how the evolve! These toilet paper rolls are adorable and modern. I love that something as simple as a recycled toilet paper roll can be taken t… </td><td>502000</td><td>CraftGossip.com</td><td>Toilet Paper Roll Crafts,Cardboard Crafts,Diy Paper,Paper Crafting,Toilet Paper Rolls,Cardboard Playhouse,Paper Art,Kids Crafts,Toddler Crafts</td><td>image</td><td>https://i.pinimg.com/originals/c6/cd/0d/c6cd0d04da9cfc11566cfd34eeb1f918.jpg</td><td>/data/diy-and-crafts</td><td>diy-and-crafts</td></tr><tr><td>9875</td><td>782dcbad-ff91-40a6-ba60-216efe29adb7</td><td>European Bucket List: 35 Things NOT To Miss When Traveling Europe</td><td>35 European bucket list destinations for any traveler heading to Europe. From Cinque Terre, Italy to Iceland - there are so many amazing sites to see in Europe.</td><td>28000</td><td>Nicki </td><td>Backpacking Europe,Europe Travel Guide,Travel Guides,Travel Packing,Traveling Europe,Travelling,Travel Backpack,Budget Travel,2 Week Europe Itinerary</td><td>image</td><td>https://i.pinimg.com/originals/71/04/1a/71041ad83ede43d9665741e719c58a86.jpg</td><td>/data/travel</td><td>travel</td></tr></tbody></table></div>"
      ]
     },
     "metadata": {
      "application/vnd.databricks.v1+output": {
       "addedWidgets": {},
       "aggData": [],
       "aggError": "",
       "aggOverflow": false,
       "aggSchema": [],
       "aggSeriesLimitReached": false,
       "aggType": "",
       "arguments": {},
       "columnCustomDisplayInfos": {},
       "data": [
        [
         7528,
         "fbe53c66-3442-4773-b19e-d3ec6f54dddf",
         null,
         null,
         null,
         null,
         null,
         "multi-video(story page format)",
         null,
         "/data/mens-fashion",
         "mens-fashion"
        ],
        [
         7528,
         "fbe53c66-3442-4773-b19e-d3ec6f54dddf",
         null,
         null,
         null,
         null,
         null,
         "multi-video(story page format)",
         null,
         "/data/mens-fashion",
         "mens-fashion"
        ],
        [
         2863,
         "9bf39437-42a6-4f02-99a0-9a0383d8cd70",
         "25 Super Fun Summer Crafts for Kids - Of Life and Lisa",
         "Keep the kids busy this summer with these easy diy crafts and projects. Creative and…",
         124000,
         "Of Life & Lisa | Lifestyle Blog",
         "Summer Crafts For Kids,Fun Crafts For Kids,Summer Kids,Toddler Crafts,Crafts To Do,Diy For Kids,Summer Snow,Diys For Summer,Craft Ideas For Girls",
         "image",
         "https://i.pinimg.com/originals/b3/bc/e2/b3bce2964e8c8975387b39660eed5f16.jpg",
         "/data/diy-and-crafts",
         "diy-and-crafts"
        ],
        [
         5730,
         "1e1f0c8b-9fcf-460b-9154-c775827206eb",
         "Island Oasis Coupon Organizer",
         "Description Coupon Organizer in a fun colorful fabric -island oasis, Great Size for the \"basic\" couponer - holds up to 500 coupons with ease, and is made long enough so that you… ",
         0,
         "Consuelo Aguirre",
         "Grocery Items,Grocery Coupons,Care Organization,Coupon Organization,Extreme Couponing,Couponing 101,Life Binder,Save My Money,Love Coupons",
         "image",
         "https://i.pinimg.com/originals/65/bb/ea/65bbeaf458907bb079317d8303c4fa0e.jpg",
         "/data/finance",
         "finance"
        ],
        [
         8304,
         "5b6d0913-25e4-43ab-839d-85d5516f78a4",
         "The #1 Reason You’re Not His Priority Anymore - Matthew Coast",
         "#lovequotes #matchmaker #matchmadeinheaven #loveyourself #respectyourself",
         51000,
         "Commitment Connection",
         "Wise Quotes,Quotable Quotes,Words Quotes,Wise Words,Quotes To Live By,Great Quotes,Motivational Quotes,Inspirational Quotes,Funny Quotes",
         "image",
         "https://i.pinimg.com/originals/c6/64/ee/c664ee71524fb5a6e7b7b49233f93b43.png",
         "/data/quotes",
         "quotes"
        ],
        [
         8731,
         "ea760f71-febf-4023-b592-d17396659039",
         "20 Koi Fish Tattoos For Lucky Men",
         "Koi fish tattoos are a popular choice for men who want to make a statement, thanks to their rich symbolism and bold design.",
         211000,
         "TheTrendSpotter",
         "Dr Tattoo,Wörter Tattoos,Pisces Tattoos,Tatoo Art,Dream Tattoos,Dope Tattoos,Mini Tattoos,Finger Tattoos,Body Art Tattoos",
         "image",
         "https://i.pinimg.com/originals/8a/0c/0a/8a0c0a7b6236565c519acd41ad1a52c0.jpg",
         "/data/tattoos",
         "tattoos"
        ],
        [
         1313,
         "44662045-e891-4821-8a19-ebe7eedd371a",
         "Liquid Lash Extensions Mascara",
         "Instantly create the look of lash extensions with this award-winning, best-selling mascara that won't clump, flake or smudge. Available in 3 shades!",
         43000,
         "Thrive Causemetics",
         null,
         "video",
         "https://i.pinimg.com/videos/thumbnails/originals/69/84/e2/6984e20f3e262098fa9c0614c3453254.0000001.jpg",
         "/data/beauty",
         "beauty"
        ],
        [
         4315,
         "21b59ba9-829d-4c33-8c27-4cd4c56d26b8",
         "Podcasts for Teachers or Parents of Teenagers",
         "Podcasts for Teachers or Parents of Teenagers: Teaching teens middle school and high school can feel joyful and rewarding most days, but can also frustrate you with one challeng… ",
         25000,
         "Math Giraffe",
         "Middle School Classroom,High School Students,High School Teachers,Middle School Tips,High School Counseling,Ela Classroom,High School Science,Future Classroom,Google Classroom",
         "image",
         "https://i.pinimg.com/originals/50/19/31/501931a27ee4d076658980851b995b2c.jpg",
         "/data/education",
         "education"
        ],
        [
         10794,
         "c4bd2577-a7bb-4409-bb7a-17d5ed7e1cf1",
         "TireBuyer",
         "Nissan GT-R. Sick.",
         437,
         "Ray Uyemura",
         "Lowrider,Old Vintage Cars,Antique Cars,Austin Martin,Nissan Gtr Black,Jaguar,1959 Cadillac,Cadillac Ct6,Old School Cars",
         "image",
         "https://i.pinimg.com/originals/0d/29/9f/0d299f3df020395aa7ce8387f40fbeed.jpg",
         "/data/vehicles",
         "vehicles"
        ],
        [
         5494,
         "8fb2af68-543b-4639-8119-de33d28706ed",
         "Dave Ramsey's 7 Baby Steps: What Are They And Will They Work For You",
         "If you love budgeting, make sure to give Dave Ramsey's 7 Baby Steps a try. Follow these steps to begin your debt snowball, build an emergency fund, invest and reach riches. I ca… ",
         26000,
         "Living Low Key | Save Money, Make Money, & Frugal Living",
         "Financial Peace,Financial Tips,Saving Money Quotes,Total Money Makeover,Budgeting Finances,Money Management,Wealth Management,Personal Finance,Making Ideas",
         "image",
         "https://i.pinimg.com/originals/1e/9d/90/1e9d906e4e150e3b95187f3b76ea7c71.png",
         "/data/finance",
         "finance"
        ],
        [
         5069,
         "b75b6f87-deb3-444f-b29e-ce9161b2df49",
         "The Vault: Curated & Refined Wedding Inspiration",
         "Sacramento California Wedding 2 Chic Events & Design Jodi Yorston Photography Wilson Vineyards Barn Miosa Couture Yellow Barn Vineyard Outdoor Candles DIY",
         6000000,
         "Style Me Pretty",
         "60th Anniversary Parties,Anniversary Decorations,Golden Anniversary,25th Wedding Anniversary,Anniversary Pictures,Anniversary Ideas,Birthday Decorations,Event Planning Design,Event Design",
         "image",
         "https://i.pinimg.com/originals/7e/45/90/7e45905fefa36347e83333fd6d091140.jpg",
         "/data/event-planning",
         "event-planning"
        ],
        [
         2923,
         "52fa3af5-24a4-4ccb-8f17-9c3eb12327ee",
         "UFO Paper Plate Craft",
         "A fun space activity for kids. Preshoolers and kindergartners will love making their own alien spacecraft!",
         192000,
         "The Crafting Chicks",
         "Paper Plate Crafts For Kids,Fun Crafts For Kids,Summer Crafts,Toddler Crafts,Art For Kids,Outer Space Crafts For Kids,Kid Crafts,Space Kids,Back To School Crafts For Kids",
         "image",
         "https://i.pinimg.com/originals/6f/e8/aa/6fe8aa405513c6d2f77b5f47d17cdce8.jpg",
         "/data/diy-and-crafts",
         "diy-and-crafts"
        ],
        [
         3089,
         "88f9227e-88d0-4b1c-b0be-bcfc3028b8e2",
         null,
         null,
         null,
         null,
         null,
         "multi-video(story page format)",
         null,
         "/data/diy-and-crafts",
         "diy-and-crafts"
        ],
        [
         6063,
         "60693727-4927-4bd6-a8c5-096a392d63e6",
         "41 Gorgeous Fall Decor Ideas For Your Home - Chaylor & Mads",
         "Beautiful and easy ways to update every room in your home with fall decor. Plus, my favorite finds in fall decor for 2020!",
         92000,
         "Kristen | Lifestyle, Mom Tips & Teacher Stuff Blog",
         "Fall Home Decor,Autumn Home,Fall Decor Outdoor,Front Porch Fall Decor,Home Decor Ideas,Porch Ideas For Fall,Fall Outdoor Decorating,Decorating Ideas For Fall,Fall Front Doors",
         "image",
         "https://i.pinimg.com/originals/e5/ae/dc/e5aedc14ce557e3a69f672e0f8c88f6e.png",
         "/data/home-decor",
         "home-decor"
        ],
        [
         3454,
         "46bd3f86-b09d-4e29-9033-7ff2df595e51",
         "What can you use to color resin?",
         "HELPFUL RESOURCES – Check out my resin colorants resources page here with links to all the products mentioned in this article (and more). Let me know if you have any that you lo… ",
         6000,
         "Mixed Media Crafts",
         "Epoxy Resin Art,Diy Resin Art,Diy Resin Crafts,Resin Molds,Ice Resin,Resin Pour,Diy Epoxy,Diy Resin Painting,Diy Resin Dice",
         "image",
         "https://i.pinimg.com/originals/d4/12/78/d4127833023ca32600571ddca16f1556.jpg",
         "/data/diy-and-crafts",
         "diy-and-crafts"
        ],
        [
         7554,
         "c6fa12f4-0d4a-4b07-a335-5bf9f37f8281",
         "Craig Style",
         "imgentleboss: “ - More about men’s fashion at @Gentleboss - GB’s Facebook - ”",
         940,
         "iElylike ..✿◕‿◕✿ஐ✿◕‿◕✿",
         "Mens Fashion Blog,Look Fashion,Autumn Fashion,Fashion News,Fashion Sale,80s Fashion,Paris Fashion,Runway Fashion,Fashion Trends",
         "image",
         "https://i.pinimg.com/originals/e7/6e/8e/e76e8ed6cc838b84a934c6948a5caff7.jpg",
         "/data/mens-fashion",
         "mens-fashion"
        ],
        [
         6145,
         "82e13a07-db99-43a3-b1c0-89a4b75821da",
         "HOLIDAY MANTLE DECOR - @AMAZON & @TARGET FINDS",
         "Holiday mantle decor, Christmas decor, metallic mercury glass style Christmas trees, eucalyptus vine, evergreen pine branches, white neutral holiday decor, cozy mantle for the h… ",
         83000,
         "Stylin by Aylin",
         "Winter Home Decor,Christmas Living Room Decor,Living Room Decor Cozy,Christmas Decor,Cozy Fireplace,Rustic Fireplace Decor,Fireplace Decorations,Rustic Room,House Decorations",
         "image",
         "https://i.pinimg.com/originals/9d/82/1a/9d821a80acd8f90c16454e978bd9b115.jpg",
         "/data/home-decor",
         "home-decor"
        ],
        [
         10625,
         "d31885b7-742a-4e2a-bbb7-ac5f9d334340",
         "Jaguar Type E",
         "1937 Jaguar SS100 - 2 1/2 Litre Roadster, one of the most sought after pre-war sports cars",
         8000,
         "hobbyDB",
         "Jaguar Type E,Jaguar Xk,Jaguar Cars,Jaguar Roadster,Jaguar Sport,Retro Cars,Vintage Cars,Antique Cars,British Sports Cars",
         "image",
         "https://i.pinimg.com/originals/26/81/a7/2681a71bd0c8f7fd0ab79c455338a49a.jpg",
         "/data/vehicles",
         "vehicles"
        ],
        [
         2959,
         "439cac4b-18e8-4aaa-88c5-edb26a701111",
         "The Cutest Toilet Paper Crafts",
         "One thing I love about Crafts is how the evolve! These toilet paper rolls are adorable and modern. I love that something as simple as a recycled toilet paper roll can be taken t… ",
         502000,
         "CraftGossip.com",
         "Toilet Paper Roll Crafts,Cardboard Crafts,Diy Paper,Paper Crafting,Toilet Paper Rolls,Cardboard Playhouse,Paper Art,Kids Crafts,Toddler Crafts",
         "image",
         "https://i.pinimg.com/originals/c6/cd/0d/c6cd0d04da9cfc11566cfd34eeb1f918.jpg",
         "/data/diy-and-crafts",
         "diy-and-crafts"
        ],
        [
         9875,
         "782dcbad-ff91-40a6-ba60-216efe29adb7",
         "European Bucket List: 35 Things NOT To Miss When Traveling Europe",
         "35 European bucket list destinations for any traveler heading to Europe. From Cinque Terre, Italy to Iceland - there are so many amazing sites to see in Europe.",
         28000,
         "Nicki ",
         "Backpacking Europe,Europe Travel Guide,Travel Guides,Travel Packing,Traveling Europe,Travelling,Travel Backpack,Budget Travel,2 Week Europe Itinerary",
         "image",
         "https://i.pinimg.com/originals/71/04/1a/71041ad83ede43d9665741e719c58a86.jpg",
         "/data/travel",
         "travel"
        ]
       ],
       "datasetInfos": [],
       "dbfsResultPath": null,
       "isJsonSchema": true,
       "metadata": {},
       "overflow": false,
       "plotOptions": {
        "customPlotOptions": {},
        "displayType": "table",
        "pivotAggregation": null,
        "pivotColumns": null,
        "xColumns": null,
        "yColumns": null
       },
       "removedWidgets": [],
       "schema": [
        {
         "metadata": "{}",
         "name": "ind",
         "type": "\"integer\""
        },
        {
         "metadata": "{}",
         "name": "unique_id",
         "type": "\"string\""
        },
        {
         "metadata": "{}",
         "name": "title",
         "type": "\"string\""
        },
        {
         "metadata": "{}",
         "name": "description",
         "type": "\"string\""
        },
        {
         "metadata": "{}",
         "name": "follower_count",
         "type": "\"integer\""
        },
        {
         "metadata": "{}",
         "name": "poster_name",
         "type": "\"string\""
        },
        {
         "metadata": "{}",
         "name": "tag_list",
         "type": "\"string\""
        },
        {
         "metadata": "{}",
         "name": "is_image_or_video",
         "type": "\"string\""
        },
        {
         "metadata": "{}",
         "name": "image_src",
         "type": "\"string\""
        },
        {
         "metadata": "{}",
         "name": "save_location",
         "type": "\"string\""
        },
        {
         "metadata": "{}",
         "name": "category",
         "type": "\"string\""
        }
       ],
       "type": "table"
      }
     },
     "output_type": "display_data"
    },
    {
     "output_type": "display_data",
     "data": {
      "text/html": [
       "<style scoped>\n",
       "  .table-result-container {\n",
       "    max-height: 300px;\n",
       "    overflow: auto;\n",
       "  }\n",
       "  table, th, td {\n",
       "    border: 1px solid black;\n",
       "    border-collapse: collapse;\n",
       "  }\n",
       "  th, td {\n",
       "    padding: 5px;\n",
       "  }\n",
       "  th {\n",
       "    text-align: left;\n",
       "  }\n",
       "</style><div class='table-result-container'><table class='table-result'><thead style='background-color: white'><tr><th>ind</th><th>country</th><th>coordinates</th><th>timestamp</th></tr></thead><tbody><tr><td>7528</td><td>Albania</td><td>List(-89.9787, -173.293)</td><td>2020-08-28T03:52:47Z</td></tr><tr><td>2863</td><td>Armenia</td><td>List(-5.34445, -177.924)</td><td>2020-04-27T13:34:16Z</td></tr><tr><td>5730</td><td>Colombia</td><td>List(-77.015, -101.437)</td><td>2021-04-19T17:37:03Z</td></tr><tr><td>8304</td><td>French Guiana</td><td>List(-28.8852, -164.87)</td><td>2019-09-13T04:50:29Z</td></tr><tr><td>8731</td><td>Aruba</td><td>List(-83.104, -171.302)</td><td>2020-07-17T04:39:09Z</td></tr><tr><td>1313</td><td>Maldives</td><td>List(77.0447, 61.9119)</td><td>2018-06-26T02:39:25Z</td></tr><tr><td>4315</td><td>Cote d'Ivoire</td><td>List(-45.8508, 66.1003)</td><td>2019-12-15T03:51:28Z</td></tr><tr><td>10794</td><td>Cocos (Keeling) Islands</td><td>List(-89.5236, -154.567)</td><td>2022-01-01T02:26:50Z</td></tr><tr><td>5494</td><td>Bulgaria</td><td>List(-82.6768, -129.202)</td><td>2021-07-21T02:02:35Z</td></tr><tr><td>5069</td><td>Azerbaijan</td><td>List(-63.0063, -157.474)</td><td>2021-03-20T09:32:44Z</td></tr><tr><td>2923</td><td>Cote d'Ivoire</td><td>List(-84.6302, -164.507)</td><td>2019-09-08T22:53:09Z</td></tr><tr><td>3089</td><td>Albania</td><td>List(-89.9787, -173.293)</td><td>2018-02-28T05:31:29Z</td></tr><tr><td>6063</td><td>Anguilla</td><td>List(-89.1797, -174.015)</td><td>2021-07-20T09:02:47Z</td></tr><tr><td>3454</td><td>Cambodia</td><td>List(-0.375174, 49.8106)</td><td>2021-07-25T02:20:29Z</td></tr><tr><td>7554</td><td>Sudan</td><td>List(-51.2172, -77.9768)</td><td>2019-03-20T03:15:07Z</td></tr><tr><td>6145</td><td>Mozambique</td><td>List(-65.9079, -143.845)</td><td>2019-12-05T02:09:44Z</td></tr><tr><td>10625</td><td>Jamaica</td><td>List(-84.4944, -81.0613)</td><td>2018-07-13T11:51:15Z</td></tr><tr><td>2959</td><td>Angola</td><td>List(-68.0095, -157.227)</td><td>2019-08-19T08:22:02Z</td></tr><tr><td>9875</td><td>Barbados</td><td>List(-74.3382, -110.484)</td><td>2020-03-20T13:03:18Z</td></tr><tr><td>2418</td><td>Antarctica (the territory South of 60 deg S)</td><td>List(-88.4642, -171.061)</td><td>2022-05-27T11:30:59Z</td></tr></tbody></table></div>"
      ]
     },
     "metadata": {
      "application/vnd.databricks.v1+output": {
       "addedWidgets": {},
       "aggData": [],
       "aggError": "",
       "aggOverflow": false,
       "aggSchema": [],
       "aggSeriesLimitReached": false,
       "aggType": "",
       "arguments": {},
       "columnCustomDisplayInfos": {},
       "data": [
        [
         7528,
         "Albania",
         [
          -89.9787,
          -173.293
         ],
         "2020-08-28T03:52:47Z"
        ],
        [
         2863,
         "Armenia",
         [
          -5.34445,
          -177.924
         ],
         "2020-04-27T13:34:16Z"
        ],
        [
         5730,
         "Colombia",
         [
          -77.015,
          -101.437
         ],
         "2021-04-19T17:37:03Z"
        ],
        [
         8304,
         "French Guiana",
         [
          -28.8852,
          -164.87
         ],
         "2019-09-13T04:50:29Z"
        ],
        [
         8731,
         "Aruba",
         [
          -83.104,
          -171.302
         ],
         "2020-07-17T04:39:09Z"
        ],
        [
         1313,
         "Maldives",
         [
          77.0447,
          61.9119
         ],
         "2018-06-26T02:39:25Z"
        ],
        [
         4315,
         "Cote d'Ivoire",
         [
          -45.8508,
          66.1003
         ],
         "2019-12-15T03:51:28Z"
        ],
        [
         10794,
         "Cocos (Keeling) Islands",
         [
          -89.5236,
          -154.567
         ],
         "2022-01-01T02:26:50Z"
        ],
        [
         5494,
         "Bulgaria",
         [
          -82.6768,
          -129.202
         ],
         "2021-07-21T02:02:35Z"
        ],
        [
         5069,
         "Azerbaijan",
         [
          -63.0063,
          -157.474
         ],
         "2021-03-20T09:32:44Z"
        ],
        [
         2923,
         "Cote d'Ivoire",
         [
          -84.6302,
          -164.507
         ],
         "2019-09-08T22:53:09Z"
        ],
        [
         3089,
         "Albania",
         [
          -89.9787,
          -173.293
         ],
         "2018-02-28T05:31:29Z"
        ],
        [
         6063,
         "Anguilla",
         [
          -89.1797,
          -174.015
         ],
         "2021-07-20T09:02:47Z"
        ],
        [
         3454,
         "Cambodia",
         [
          -0.375174,
          49.8106
         ],
         "2021-07-25T02:20:29Z"
        ],
        [
         7554,
         "Sudan",
         [
          -51.2172,
          -77.9768
         ],
         "2019-03-20T03:15:07Z"
        ],
        [
         6145,
         "Mozambique",
         [
          -65.9079,
          -143.845
         ],
         "2019-12-05T02:09:44Z"
        ],
        [
         10625,
         "Jamaica",
         [
          -84.4944,
          -81.0613
         ],
         "2018-07-13T11:51:15Z"
        ],
        [
         2959,
         "Angola",
         [
          -68.0095,
          -157.227
         ],
         "2019-08-19T08:22:02Z"
        ],
        [
         9875,
         "Barbados",
         [
          -74.3382,
          -110.484
         ],
         "2020-03-20T13:03:18Z"
        ],
        [
         2418,
         "Antarctica (the territory South of 60 deg S)",
         [
          -88.4642,
          -171.061
         ],
         "2022-05-27T11:30:59Z"
        ]
       ],
       "datasetInfos": [],
       "dbfsResultPath": null,
       "isJsonSchema": true,
       "metadata": {},
       "overflow": false,
       "plotOptions": {
        "customPlotOptions": {},
        "displayType": "table",
        "pivotAggregation": null,
        "pivotColumns": null,
        "xColumns": null,
        "yColumns": null
       },
       "removedWidgets": [],
       "schema": [
        {
         "metadata": "{}",
         "name": "ind",
         "type": "\"long\""
        },
        {
         "metadata": "{}",
         "name": "country",
         "type": "\"string\""
        },
        {
         "metadata": "{}",
         "name": "coordinates",
         "type": "{\"type\":\"array\",\"elementType\":\"double\",\"containsNull\":true}"
        },
        {
         "metadata": "{}",
         "name": "timestamp",
         "type": "\"timestamp\""
        }
       ],
       "type": "table"
      }
     },
     "output_type": "display_data"
    },
    {
     "output_type": "display_data",
     "data": {
      "text/html": [
       "<style scoped>\n",
       "  .table-result-container {\n",
       "    max-height: 300px;\n",
       "    overflow: auto;\n",
       "  }\n",
       "  table, th, td {\n",
       "    border: 1px solid black;\n",
       "    border-collapse: collapse;\n",
       "  }\n",
       "  th, td {\n",
       "    padding: 5px;\n",
       "  }\n",
       "  th {\n",
       "    text-align: left;\n",
       "  }\n",
       "</style><div class='table-result-container'><table class='table-result'><thead style='background-color: white'><tr><th>ind</th><th>user_name</th><th>age</th><th>date_joined</th></tr></thead><tbody><tr><td>7528</td><td>Abigail Ali</td><td>20</td><td>2015-10-24T11:23:51Z</td></tr><tr><td>2863</td><td>Dylan Holmes</td><td>32</td><td>2016-10-23T14:06:51Z</td></tr><tr><td>5730</td><td>Rachel Davis</td><td>36</td><td>2015-12-08T20:02:43Z</td></tr><tr><td>8304</td><td>Charles Berry</td><td>25</td><td>2015-12-28T04:21:39Z</td></tr><tr><td>8731</td><td>Andrea Alexander</td><td>21</td><td>2015-11-10T09:27:42Z</td></tr><tr><td>1313</td><td>Brittany Jones</td><td>32</td><td>2016-04-02T03:51:23Z</td></tr><tr><td>4315</td><td>Michelle Prince</td><td>36</td><td>2015-12-20T16:38:13Z</td></tr><tr><td>10794</td><td>Thomas Turner</td><td>34</td><td>2016-12-22T00:02:02Z</td></tr><tr><td>5494</td><td>Anne Allen</td><td>27</td><td>2015-12-16T15:20:05Z</td></tr><tr><td>5069</td><td>Amanda Ball</td><td>25</td><td>2016-01-13T17:36:30Z</td></tr><tr><td>2923</td><td>Brian Nelson</td><td>26</td><td>2015-11-11T03:20:57Z</td></tr><tr><td>3089</td><td>Abigail Ali</td><td>20</td><td>2015-10-24T11:23:51Z</td></tr><tr><td>6063</td><td>Corey Andrews</td><td>23</td><td>2015-11-25T13:36:22Z</td></tr><tr><td>3454</td><td>Robert Murphy</td><td>48</td><td>2017-09-26T16:31:56Z</td></tr><tr><td>7554</td><td>Cheryl Huerta</td><td>20</td><td>2017-04-11T16:35:33Z</td></tr><tr><td>6145</td><td>Emily Hawkins</td><td>30</td><td>2015-12-25T20:24:37Z</td></tr><tr><td>10625</td><td>Christian Lang</td><td>32</td><td>2017-10-10T20:09:33Z</td></tr><tr><td>2959</td><td>David Griffith</td><td>20</td><td>2016-01-07T19:49:22Z</td></tr><tr><td>9875</td><td>Brendan Joseph</td><td>26</td><td>2015-12-20T10:28:00Z</td></tr><tr><td>2418</td><td>Amanda Adams</td><td>20</td><td>2015-10-21T08:27:36Z</td></tr></tbody></table></div>"
      ]
     },
     "metadata": {
      "application/vnd.databricks.v1+output": {
       "addedWidgets": {},
       "aggData": [],
       "aggError": "",
       "aggOverflow": false,
       "aggSchema": [],
       "aggSeriesLimitReached": false,
       "aggType": "",
       "arguments": {},
       "columnCustomDisplayInfos": {},
       "data": [
        [
         7528,
         "Abigail Ali",
         20,
         "2015-10-24T11:23:51Z"
        ],
        [
         2863,
         "Dylan Holmes",
         32,
         "2016-10-23T14:06:51Z"
        ],
        [
         5730,
         "Rachel Davis",
         36,
         "2015-12-08T20:02:43Z"
        ],
        [
         8304,
         "Charles Berry",
         25,
         "2015-12-28T04:21:39Z"
        ],
        [
         8731,
         "Andrea Alexander",
         21,
         "2015-11-10T09:27:42Z"
        ],
        [
         1313,
         "Brittany Jones",
         32,
         "2016-04-02T03:51:23Z"
        ],
        [
         4315,
         "Michelle Prince",
         36,
         "2015-12-20T16:38:13Z"
        ],
        [
         10794,
         "Thomas Turner",
         34,
         "2016-12-22T00:02:02Z"
        ],
        [
         5494,
         "Anne Allen",
         27,
         "2015-12-16T15:20:05Z"
        ],
        [
         5069,
         "Amanda Ball",
         25,
         "2016-01-13T17:36:30Z"
        ],
        [
         2923,
         "Brian Nelson",
         26,
         "2015-11-11T03:20:57Z"
        ],
        [
         3089,
         "Abigail Ali",
         20,
         "2015-10-24T11:23:51Z"
        ],
        [
         6063,
         "Corey Andrews",
         23,
         "2015-11-25T13:36:22Z"
        ],
        [
         3454,
         "Robert Murphy",
         48,
         "2017-09-26T16:31:56Z"
        ],
        [
         7554,
         "Cheryl Huerta",
         20,
         "2017-04-11T16:35:33Z"
        ],
        [
         6145,
         "Emily Hawkins",
         30,
         "2015-12-25T20:24:37Z"
        ],
        [
         10625,
         "Christian Lang",
         32,
         "2017-10-10T20:09:33Z"
        ],
        [
         2959,
         "David Griffith",
         20,
         "2016-01-07T19:49:22Z"
        ],
        [
         9875,
         "Brendan Joseph",
         26,
         "2015-12-20T10:28:00Z"
        ],
        [
         2418,
         "Amanda Adams",
         20,
         "2015-10-21T08:27:36Z"
        ]
       ],
       "datasetInfos": [],
       "dbfsResultPath": null,
       "isJsonSchema": true,
       "metadata": {},
       "overflow": false,
       "plotOptions": {
        "customPlotOptions": {},
        "displayType": "table",
        "pivotAggregation": null,
        "pivotColumns": null,
        "xColumns": null,
        "yColumns": null
       },
       "removedWidgets": [],
       "schema": [
        {
         "metadata": "{}",
         "name": "ind",
         "type": "\"long\""
        },
        {
         "metadata": "{}",
         "name": "user_name",
         "type": "\"string\""
        },
        {
         "metadata": "{}",
         "name": "age",
         "type": "\"long\""
        },
        {
         "metadata": "{}",
         "name": "date_joined",
         "type": "\"timestamp\""
        }
       ],
       "type": "table"
      }
     },
     "output_type": "display_data"
    }
   ],
   "source": [
    "df_pin = spark.read.format(\"delta\").load('dbfs:/user/hive/warehouse/0affe4008223_pin_table')\n",
    "df_geo = spark.read.format(\"delta\").load('dbfs:/user/hive/warehouse/0affe4008223_geo_table')\n",
    "df_user = spark.read.format(\"delta\").load('dbfs:/user/hive/warehouse/0affe4008223_user_table')\n",
    "\n",
    "display(df_pin.limit(20))\n",
    "display(df_geo.limit(20))\n",
    "display(df_user.limit(20))\n"
   ]
  },
  {
   "cell_type": "markdown",
   "metadata": {
    "application/vnd.databricks.v1+cell": {
     "cellMetadata": {},
     "inputWidgets": {},
     "nuid": "3dd6bf0b-0db2-43dd-9dad-119b70f07930",
     "showTitle": false,
     "tableResultSettingsMap": {},
     "title": ""
    }
   },
   "source": [
    "### Task 4:\n",
    "- Find the most popular Pinterest category people post to based on their country"
   ]
  },
  {
   "cell_type": "code",
   "execution_count": 0,
   "metadata": {
    "application/vnd.databricks.v1+cell": {
     "cellMetadata": {
      "byteLimit": 2048000,
      "rowLimit": 10000
     },
     "inputWidgets": {},
     "nuid": "c766f8d9-5ef1-40e7-b273-489a6cab387a",
     "showTitle": false,
     "tableResultSettingsMap": {},
     "title": ""
    }
   },
   "outputs": [],
   "source": [
    "# First, create the joined DataFrame\n",
    "df_pin_geo = df_pin.join(df_geo, df_pin[\"ind\"] == df_geo[\"ind\"], how=\"inner\")\n",
    "\n",
    "# Register the DataFrame as a temporary table for SQL querying\n",
    "df_pin_geo.createOrReplaceTempView(\"df_pin_geo\")"
   ]
  },
  {
   "cell_type": "code",
   "execution_count": 0,
   "metadata": {
    "application/vnd.databricks.v1+cell": {
     "cellMetadata": {
      "byteLimit": 2048000,
      "implicitDf": true,
      "rowLimit": 10000
     },
     "inputWidgets": {},
     "nuid": "6b4a455f-22b3-4f92-beb1-b716361b6c3f",
     "showTitle": false,
     "tableResultSettingsMap": {},
     "title": ""
    }
   },
   "outputs": [
    {
     "output_type": "display_data",
     "data": {
      "text/html": [
       "<style scoped>\n",
       "  .table-result-container {\n",
       "    max-height: 300px;\n",
       "    overflow: auto;\n",
       "  }\n",
       "  table, th, td {\n",
       "    border: 1px solid black;\n",
       "    border-collapse: collapse;\n",
       "  }\n",
       "  th, td {\n",
       "    padding: 5px;\n",
       "  }\n",
       "  th {\n",
       "    text-align: left;\n",
       "  }\n",
       "</style><div class='table-result-container'><table class='table-result'><thead style='background-color: white'><tr><th>country</th><th>category</th><th>category_count</th></tr></thead><tbody><tr><td>Afghanistan</td><td>education</td><td>62</td></tr><tr><td>Albania</td><td>art</td><td>92</td></tr><tr><td>Algeria</td><td>quotes</td><td>195</td></tr><tr><td>American Samoa</td><td>tattoos</td><td>46</td></tr><tr><td>Andorra</td><td>tattoos</td><td>33</td></tr><tr><td>Angola</td><td>education</td><td>11</td></tr><tr><td>Anguilla</td><td>beauty</td><td>15</td></tr><tr><td>Antarctica (the territory South of 60 deg S)</td><td>christmas</td><td>16</td></tr><tr><td>Antigua and Barbuda</td><td>travel</td><td>18</td></tr><tr><td>Argentina</td><td>tattoos</td><td>46</td></tr><tr><td>Armenia</td><td>vehicles</td><td>23</td></tr><tr><td>Aruba</td><td>christmas</td><td>44</td></tr><tr><td>Australia</td><td>christmas</td><td>10</td></tr><tr><td>Austria</td><td>travel</td><td>21</td></tr><tr><td>Azerbaijan</td><td>finance</td><td>25</td></tr><tr><td>Bahamas</td><td>art</td><td>22</td></tr><tr><td>Bahrain</td><td>finance</td><td>12</td></tr><tr><td>Bangladesh</td><td>christmas</td><td>28</td></tr><tr><td>Barbados</td><td>art</td><td>11</td></tr><tr><td>Belarus</td><td>christmas</td><td>9</td></tr><tr><td>Belgium</td><td>diy-and-crafts</td><td>8</td></tr><tr><td>Belize</td><td>diy-and-crafts</td><td>19</td></tr><tr><td>Benin</td><td>finance</td><td>11</td></tr><tr><td>Bermuda</td><td>christmas</td><td>13</td></tr><tr><td>Bhutan</td><td>diy-and-crafts</td><td>8</td></tr><tr><td>Bolivia</td><td>diy-and-crafts</td><td>18</td></tr><tr><td>Bosnia and Herzegovina</td><td>tattoos</td><td>13</td></tr><tr><td>Botswana</td><td>finance</td><td>11</td></tr><tr><td>Bouvet Island (Bouvetoya)</td><td>event-planning</td><td>20</td></tr><tr><td>Brazil</td><td>finance</td><td>14</td></tr><tr><td>British Indian Ocean Territory (Chagos Archipelago)</td><td>mens-fashion</td><td>7</td></tr><tr><td>British Virgin Islands</td><td>christmas</td><td>21</td></tr><tr><td>Brunei Darussalam</td><td>event-planning</td><td>6</td></tr><tr><td>Bulgaria</td><td>christmas</td><td>31</td></tr><tr><td>Burkina Faso</td><td>quotes</td><td>24</td></tr><tr><td>Burundi</td><td>mens-fashion</td><td>12</td></tr><tr><td>Cambodia</td><td>vehicles</td><td>10</td></tr><tr><td>Cameroon</td><td>travel</td><td>16</td></tr><tr><td>Canada</td><td>education</td><td>3</td></tr><tr><td>Cape Verde</td><td>quotes</td><td>20</td></tr><tr><td>Cayman Islands</td><td>christmas</td><td>5</td></tr><tr><td>Central African Republic</td><td>mens-fashion</td><td>9</td></tr><tr><td>Chad</td><td>diy-and-crafts</td><td>10</td></tr><tr><td>Chile</td><td>mens-fashion</td><td>16</td></tr><tr><td>China</td><td>event-planning</td><td>2</td></tr><tr><td>Christmas Island</td><td>travel</td><td>9</td></tr><tr><td>Cocos (Keeling) Islands</td><td>travel</td><td>7</td></tr><tr><td>Colombia</td><td>home-decor</td><td>10</td></tr><tr><td>Comoros</td><td>christmas</td><td>3</td></tr><tr><td>Congo</td><td>art</td><td>16</td></tr><tr><td>Cook Islands</td><td>vehicles</td><td>5</td></tr><tr><td>Costa Rica</td><td>christmas</td><td>16</td></tr><tr><td>Cote d'Ivoire</td><td>education</td><td>8</td></tr><tr><td>Croatia</td><td>finance</td><td>8</td></tr><tr><td>Cuba</td><td>tattoos</td><td>9</td></tr><tr><td>Cyprus</td><td>event-planning</td><td>5</td></tr><tr><td>Czech Republic</td><td>travel</td><td>8</td></tr><tr><td>Denmark</td><td>beauty</td><td>5</td></tr><tr><td>Djibouti</td><td>diy-and-crafts</td><td>5</td></tr><tr><td>Dominica</td><td>christmas</td><td>2</td></tr><tr><td>Dominican Republic</td><td>finance</td><td>12</td></tr><tr><td>Ecuador</td><td>travel</td><td>9</td></tr><tr><td>Egypt</td><td>home-decor</td><td>14</td></tr><tr><td>El Salvador</td><td>quotes</td><td>4</td></tr><tr><td>Equatorial Guinea</td><td>quotes</td><td>3</td></tr><tr><td>Eritrea</td><td>event-planning</td><td>3</td></tr><tr><td>Estonia</td><td>vehicles</td><td>5</td></tr><tr><td>Ethiopia</td><td>home-decor</td><td>9</td></tr><tr><td>Falkland Islands (Malvinas)</td><td>event-planning</td><td>25</td></tr><tr><td>Faroe Islands</td><td>event-planning</td><td>27</td></tr><tr><td>Fiji</td><td>education</td><td>5</td></tr><tr><td>Finland</td><td>quotes</td><td>9</td></tr><tr><td>France</td><td>beauty</td><td>6</td></tr><tr><td>French Guiana</td><td>quotes</td><td>4</td></tr><tr><td>French Polynesia</td><td>event-planning</td><td>13</td></tr><tr><td>French Southern Territories</td><td>finance</td><td>10</td></tr><tr><td>Gabon</td><td>travel</td><td>3</td></tr><tr><td>Gambia</td><td>art</td><td>2</td></tr><tr><td>Georgia</td><td>education</td><td>18</td></tr><tr><td>Germany</td><td>finance</td><td>8</td></tr><tr><td>Ghana</td><td>quotes</td><td>9</td></tr><tr><td>Gibraltar</td><td>event-planning</td><td>5</td></tr><tr><td>Greece</td><td>mens-fashion</td><td>11</td></tr><tr><td>Greenland</td><td>christmas</td><td>4</td></tr><tr><td>Grenada</td><td>finance</td><td>9</td></tr><tr><td>Guadeloupe</td><td>christmas</td><td>16</td></tr><tr><td>Guam</td><td>mens-fashion</td><td>4</td></tr><tr><td>Guatemala</td><td>finance</td><td>9</td></tr><tr><td>Guernsey</td><td>tattoos</td><td>3</td></tr><tr><td>Guinea</td><td>travel</td><td>8</td></tr><tr><td>Guinea-Bissau</td><td>travel</td><td>11</td></tr><tr><td>Guyana</td><td>education</td><td>5</td></tr><tr><td>Haiti</td><td>christmas</td><td>6</td></tr><tr><td>Heard Island and McDonald Islands</td><td>education</td><td>4</td></tr><tr><td>Holy See (Vatican City State)</td><td>event-planning</td><td>2</td></tr><tr><td>Honduras</td><td>travel</td><td>5</td></tr><tr><td>Hong Kong</td><td>home-decor</td><td>2</td></tr><tr><td>Hungary</td><td>event-planning</td><td>5</td></tr><tr><td>Iceland</td><td>diy-and-crafts</td><td>4</td></tr><tr><td>India</td><td>art</td><td>14</td></tr><tr><td>Indonesia</td><td>finance</td><td>17</td></tr><tr><td>Iran</td><td>christmas</td><td>8</td></tr><tr><td>Iraq</td><td>tattoos</td><td>3</td></tr><tr><td>Ireland</td><td>event-planning</td><td>9</td></tr><tr><td>Isle of Man</td><td>finance</td><td>10</td></tr><tr><td>Israel</td><td>finance</td><td>4</td></tr><tr><td>Italy</td><td>vehicles</td><td>3</td></tr><tr><td>Jamaica</td><td>education</td><td>16</td></tr><tr><td>Japan</td><td>art</td><td>11</td></tr><tr><td>Jersey</td><td>mens-fashion</td><td>5</td></tr><tr><td>Jordan</td><td>diy-and-crafts</td><td>5</td></tr><tr><td>Kazakhstan</td><td>home-decor</td><td>4</td></tr><tr><td>Kenya</td><td>diy-and-crafts</td><td>12</td></tr><tr><td>Kiribati</td><td>finance</td><td>17</td></tr><tr><td>Korea</td><td>travel</td><td>14</td></tr><tr><td>Kuwait</td><td>christmas</td><td>9</td></tr><tr><td>Kyrgyz Republic</td><td>mens-fashion</td><td>8</td></tr><tr><td>Lao People's Democratic Republic</td><td>beauty</td><td>6</td></tr><tr><td>Latvia</td><td>travel</td><td>6</td></tr><tr><td>Lebanon</td><td>mens-fashion</td><td>9</td></tr><tr><td>Lesotho</td><td>art</td><td>14</td></tr><tr><td>Liberia</td><td>christmas</td><td>5</td></tr><tr><td>Libyan Arab Jamahiriya</td><td>vehicles</td><td>5</td></tr><tr><td>Liechtenstein</td><td>vehicles</td><td>5</td></tr><tr><td>Lithuania</td><td>education</td><td>4</td></tr><tr><td>Luxembourg</td><td>education</td><td>5</td></tr><tr><td>Macao</td><td>vehicles</td><td>11</td></tr><tr><td>Macedonia</td><td>beauty</td><td>4</td></tr><tr><td>Madagascar</td><td>finance</td><td>4</td></tr><tr><td>Malawi</td><td>christmas</td><td>10</td></tr><tr><td>Malaysia</td><td>vehicles</td><td>4</td></tr><tr><td>Maldives</td><td>event-planning</td><td>5</td></tr><tr><td>Mali</td><td>tattoos</td><td>5</td></tr><tr><td>Malta</td><td>art</td><td>16</td></tr><tr><td>Marshall Islands</td><td>event-planning</td><td>2</td></tr><tr><td>Martinique</td><td>art</td><td>9</td></tr><tr><td>Mauritania</td><td>christmas</td><td>2</td></tr><tr><td>Mauritius</td><td>mens-fashion</td><td>5</td></tr><tr><td>Mayotte</td><td>diy-and-crafts</td><td>9</td></tr><tr><td>Mexico</td><td>vehicles</td><td>5</td></tr><tr><td>Micronesia</td><td>event-planning</td><td>10</td></tr><tr><td>Moldova</td><td>beauty</td><td>6</td></tr><tr><td>Monaco</td><td>vehicles</td><td>4</td></tr><tr><td>Mongolia</td><td>travel</td><td>6</td></tr><tr><td>Montenegro</td><td>quotes</td><td>1</td></tr><tr><td>Montserrat</td><td>art</td><td>10</td></tr><tr><td>Morocco</td><td>quotes</td><td>14</td></tr><tr><td>Mozambique</td><td>home-decor</td><td>12</td></tr><tr><td>Myanmar</td><td>christmas</td><td>3</td></tr><tr><td>Namibia</td><td>vehicles</td><td>8</td></tr><tr><td>Nauru</td><td>beauty</td><td>9</td></tr><tr><td>Nepal</td><td>christmas</td><td>3</td></tr><tr><td>Netherlands</td><td>home-decor</td><td>14</td></tr><tr><td>Netherlands Antilles</td><td>beauty</td><td>8</td></tr><tr><td>New Caledonia</td><td>mens-fashion</td><td>2</td></tr><tr><td>New Zealand</td><td>mens-fashion</td><td>5</td></tr><tr><td>Nicaragua</td><td>mens-fashion</td><td>8</td></tr><tr><td>Niger</td><td>christmas</td><td>5</td></tr><tr><td>Nigeria</td><td>education</td><td>8</td></tr><tr><td>Niue</td><td>tattoos</td><td>2</td></tr><tr><td>Norfolk Island</td><td>diy-and-crafts</td><td>16</td></tr><tr><td>Northern Mariana Islands</td><td>art</td><td>1</td></tr><tr><td>Norway</td><td>art</td><td>4</td></tr><tr><td>Oman</td><td>finance</td><td>5</td></tr><tr><td>Pakistan</td><td>event-planning</td><td>4</td></tr><tr><td>Palau</td><td>quotes</td><td>4</td></tr><tr><td>Palestinian Territory</td><td>art</td><td>8</td></tr><tr><td>Panama</td><td>beauty</td><td>4</td></tr><tr><td>Papua New Guinea</td><td>quotes</td><td>9</td></tr><tr><td>Paraguay</td><td>vehicles</td><td>6</td></tr><tr><td>Peru</td><td>tattoos</td><td>5</td></tr><tr><td>Philippines</td><td>finance</td><td>9</td></tr><tr><td>Pitcairn Islands</td><td>event-planning</td><td>16</td></tr><tr><td>Poland</td><td>beauty</td><td>2</td></tr><tr><td>Portugal</td><td>beauty</td><td>4</td></tr><tr><td>Puerto Rico</td><td>christmas</td><td>2</td></tr><tr><td>Qatar</td><td>beauty</td><td>5</td></tr><tr><td>Reunion</td><td>finance</td><td>4</td></tr><tr><td>Romania</td><td>tattoos</td><td>9</td></tr><tr><td>Russian Federation</td><td>finance</td><td>4</td></tr><tr><td>Rwanda</td><td>mens-fashion</td><td>4</td></tr><tr><td>Saint Barthelemy</td><td>christmas</td><td>4</td></tr><tr><td>Saint Helena</td><td>quotes</td><td>4</td></tr><tr><td>Saint Kitts and Nevis</td><td>vehicles</td><td>5</td></tr><tr><td>Saint Lucia</td><td>education</td><td>1</td></tr><tr><td>Saint Martin</td><td>education</td><td>4</td></tr><tr><td>Saint Pierre and Miquelon</td><td>mens-fashion</td><td>13</td></tr><tr><td>Saint Vincent and the Grenadines</td><td>christmas</td><td>2</td></tr><tr><td>Samoa</td><td>diy-and-crafts</td><td>4</td></tr><tr><td>San Marino</td><td>home-decor</td><td>5</td></tr><tr><td>Sao Tome and Principe</td><td>finance</td><td>1</td></tr><tr><td>Saudi Arabia</td><td>finance</td><td>4</td></tr><tr><td>Senegal</td><td>beauty</td><td>4</td></tr><tr><td>Serbia</td><td>vehicles</td><td>9</td></tr><tr><td>Seychelles</td><td>christmas</td><td>5</td></tr><tr><td>Sierra Leone</td><td>home-decor</td><td>4</td></tr><tr><td>Singapore</td><td>mens-fashion</td><td>4</td></tr><tr><td>Slovakia (Slovak Republic)</td><td>vehicles</td><td>5</td></tr><tr><td>Slovenia</td><td>art</td><td>1</td></tr><tr><td>Solomon Islands</td><td>art</td><td>4</td></tr><tr><td>Somalia</td><td>travel</td><td>4</td></tr><tr><td>South Africa</td><td>vehicles</td><td>5</td></tr><tr><td>South Georgia and the South Sandwich Islands</td><td>finance</td><td>4</td></tr><tr><td>Spain</td><td>tattoos</td><td>1</td></tr><tr><td>Sri Lanka</td><td>mens-fashion</td><td>2</td></tr><tr><td>Sudan</td><td>education</td><td>9</td></tr><tr><td>Suriname</td><td>event-planning</td><td>1</td></tr><tr><td>Svalbard & Jan Mayen Islands</td><td>travel</td><td>4</td></tr><tr><td>Swaziland</td><td>quotes</td><td>5</td></tr><tr><td>Sweden</td><td>mens-fashion</td><td>10</td></tr><tr><td>Switzerland</td><td>vehicles</td><td>5</td></tr><tr><td>Syrian Arab Republic</td><td>home-decor</td><td>2</td></tr><tr><td>Taiwan</td><td>vehicles</td><td>6</td></tr><tr><td>Tajikistan</td><td>beauty</td><td>2</td></tr><tr><td>Tanzania</td><td>travel</td><td>2</td></tr><tr><td>Thailand</td><td>event-planning</td><td>4</td></tr><tr><td>Timor-Leste</td><td>travel</td><td>5</td></tr><tr><td>Togo</td><td>mens-fashion</td><td>4</td></tr><tr><td>Tokelau</td><td>art</td><td>5</td></tr><tr><td>Tonga</td><td>beauty</td><td>5</td></tr><tr><td>Trinidad and Tobago</td><td>christmas</td><td>5</td></tr><tr><td>Tunisia</td><td>travel</td><td>4</td></tr><tr><td>Turkey</td><td>education</td><td>2</td></tr><tr><td>Turkmenistan</td><td>diy-and-crafts</td><td>4</td></tr><tr><td>Turks and Caicos Islands</td><td>event-planning</td><td>6</td></tr><tr><td>Tuvalu</td><td>beauty</td><td>4</td></tr><tr><td>Uganda</td><td>christmas</td><td>5</td></tr><tr><td>Ukraine</td><td>finance</td><td>4</td></tr><tr><td>United Kingdom</td><td>home-decor</td><td>1</td></tr><tr><td>United States Minor Outlying Islands</td><td>beauty</td><td>4</td></tr><tr><td>United States Virgin Islands</td><td>quotes</td><td>4</td></tr><tr><td>United States of America</td><td>tattoos</td><td>5</td></tr><tr><td>Uruguay</td><td>beauty</td><td>1</td></tr><tr><td>Uzbekistan</td><td>quotes</td><td>4</td></tr><tr><td>Vanuatu</td><td>christmas</td><td>1</td></tr><tr><td>Venezuela</td><td>event-planning</td><td>5</td></tr><tr><td>Vietnam</td><td>quotes</td><td>4</td></tr><tr><td>Wallis and Futuna</td><td>home-decor</td><td>4</td></tr><tr><td>Western Sahara</td><td>travel</td><td>4</td></tr><tr><td>Yemen</td><td>christmas</td><td>3</td></tr><tr><td>Zambia</td><td>mens-fashion</td><td>2</td></tr></tbody></table></div>"
      ]
     },
     "metadata": {
      "application/vnd.databricks.v1+output": {
       "addedWidgets": {},
       "aggData": [],
       "aggError": "",
       "aggOverflow": false,
       "aggSchema": [],
       "aggSeriesLimitReached": false,
       "aggType": "",
       "arguments": {},
       "columnCustomDisplayInfos": {},
       "data": [
        [
         "Afghanistan",
         "education",
         62
        ],
        [
         "Albania",
         "art",
         92
        ],
        [
         "Algeria",
         "quotes",
         195
        ],
        [
         "American Samoa",
         "tattoos",
         46
        ],
        [
         "Andorra",
         "tattoos",
         33
        ],
        [
         "Angola",
         "education",
         11
        ],
        [
         "Anguilla",
         "beauty",
         15
        ],
        [
         "Antarctica (the territory South of 60 deg S)",
         "christmas",
         16
        ],
        [
         "Antigua and Barbuda",
         "travel",
         18
        ],
        [
         "Argentina",
         "tattoos",
         46
        ],
        [
         "Armenia",
         "vehicles",
         23
        ],
        [
         "Aruba",
         "christmas",
         44
        ],
        [
         "Australia",
         "christmas",
         10
        ],
        [
         "Austria",
         "travel",
         21
        ],
        [
         "Azerbaijan",
         "finance",
         25
        ],
        [
         "Bahamas",
         "art",
         22
        ],
        [
         "Bahrain",
         "finance",
         12
        ],
        [
         "Bangladesh",
         "christmas",
         28
        ],
        [
         "Barbados",
         "art",
         11
        ],
        [
         "Belarus",
         "christmas",
         9
        ],
        [
         "Belgium",
         "diy-and-crafts",
         8
        ],
        [
         "Belize",
         "diy-and-crafts",
         19
        ],
        [
         "Benin",
         "finance",
         11
        ],
        [
         "Bermuda",
         "christmas",
         13
        ],
        [
         "Bhutan",
         "diy-and-crafts",
         8
        ],
        [
         "Bolivia",
         "diy-and-crafts",
         18
        ],
        [
         "Bosnia and Herzegovina",
         "tattoos",
         13
        ],
        [
         "Botswana",
         "finance",
         11
        ],
        [
         "Bouvet Island (Bouvetoya)",
         "event-planning",
         20
        ],
        [
         "Brazil",
         "finance",
         14
        ],
        [
         "British Indian Ocean Territory (Chagos Archipelago)",
         "mens-fashion",
         7
        ],
        [
         "British Virgin Islands",
         "christmas",
         21
        ],
        [
         "Brunei Darussalam",
         "event-planning",
         6
        ],
        [
         "Bulgaria",
         "christmas",
         31
        ],
        [
         "Burkina Faso",
         "quotes",
         24
        ],
        [
         "Burundi",
         "mens-fashion",
         12
        ],
        [
         "Cambodia",
         "vehicles",
         10
        ],
        [
         "Cameroon",
         "travel",
         16
        ],
        [
         "Canada",
         "education",
         3
        ],
        [
         "Cape Verde",
         "quotes",
         20
        ],
        [
         "Cayman Islands",
         "christmas",
         5
        ],
        [
         "Central African Republic",
         "mens-fashion",
         9
        ],
        [
         "Chad",
         "diy-and-crafts",
         10
        ],
        [
         "Chile",
         "mens-fashion",
         16
        ],
        [
         "China",
         "event-planning",
         2
        ],
        [
         "Christmas Island",
         "travel",
         9
        ],
        [
         "Cocos (Keeling) Islands",
         "travel",
         7
        ],
        [
         "Colombia",
         "home-decor",
         10
        ],
        [
         "Comoros",
         "christmas",
         3
        ],
        [
         "Congo",
         "art",
         16
        ],
        [
         "Cook Islands",
         "vehicles",
         5
        ],
        [
         "Costa Rica",
         "christmas",
         16
        ],
        [
         "Cote d'Ivoire",
         "education",
         8
        ],
        [
         "Croatia",
         "finance",
         8
        ],
        [
         "Cuba",
         "tattoos",
         9
        ],
        [
         "Cyprus",
         "event-planning",
         5
        ],
        [
         "Czech Republic",
         "travel",
         8
        ],
        [
         "Denmark",
         "beauty",
         5
        ],
        [
         "Djibouti",
         "diy-and-crafts",
         5
        ],
        [
         "Dominica",
         "christmas",
         2
        ],
        [
         "Dominican Republic",
         "finance",
         12
        ],
        [
         "Ecuador",
         "travel",
         9
        ],
        [
         "Egypt",
         "home-decor",
         14
        ],
        [
         "El Salvador",
         "quotes",
         4
        ],
        [
         "Equatorial Guinea",
         "quotes",
         3
        ],
        [
         "Eritrea",
         "event-planning",
         3
        ],
        [
         "Estonia",
         "vehicles",
         5
        ],
        [
         "Ethiopia",
         "home-decor",
         9
        ],
        [
         "Falkland Islands (Malvinas)",
         "event-planning",
         25
        ],
        [
         "Faroe Islands",
         "event-planning",
         27
        ],
        [
         "Fiji",
         "education",
         5
        ],
        [
         "Finland",
         "quotes",
         9
        ],
        [
         "France",
         "beauty",
         6
        ],
        [
         "French Guiana",
         "quotes",
         4
        ],
        [
         "French Polynesia",
         "event-planning",
         13
        ],
        [
         "French Southern Territories",
         "finance",
         10
        ],
        [
         "Gabon",
         "travel",
         3
        ],
        [
         "Gambia",
         "art",
         2
        ],
        [
         "Georgia",
         "education",
         18
        ],
        [
         "Germany",
         "finance",
         8
        ],
        [
         "Ghana",
         "quotes",
         9
        ],
        [
         "Gibraltar",
         "event-planning",
         5
        ],
        [
         "Greece",
         "mens-fashion",
         11
        ],
        [
         "Greenland",
         "christmas",
         4
        ],
        [
         "Grenada",
         "finance",
         9
        ],
        [
         "Guadeloupe",
         "christmas",
         16
        ],
        [
         "Guam",
         "mens-fashion",
         4
        ],
        [
         "Guatemala",
         "finance",
         9
        ],
        [
         "Guernsey",
         "tattoos",
         3
        ],
        [
         "Guinea",
         "travel",
         8
        ],
        [
         "Guinea-Bissau",
         "travel",
         11
        ],
        [
         "Guyana",
         "education",
         5
        ],
        [
         "Haiti",
         "christmas",
         6
        ],
        [
         "Heard Island and McDonald Islands",
         "education",
         4
        ],
        [
         "Holy See (Vatican City State)",
         "event-planning",
         2
        ],
        [
         "Honduras",
         "travel",
         5
        ],
        [
         "Hong Kong",
         "home-decor",
         2
        ],
        [
         "Hungary",
         "event-planning",
         5
        ],
        [
         "Iceland",
         "diy-and-crafts",
         4
        ],
        [
         "India",
         "art",
         14
        ],
        [
         "Indonesia",
         "finance",
         17
        ],
        [
         "Iran",
         "christmas",
         8
        ],
        [
         "Iraq",
         "tattoos",
         3
        ],
        [
         "Ireland",
         "event-planning",
         9
        ],
        [
         "Isle of Man",
         "finance",
         10
        ],
        [
         "Israel",
         "finance",
         4
        ],
        [
         "Italy",
         "vehicles",
         3
        ],
        [
         "Jamaica",
         "education",
         16
        ],
        [
         "Japan",
         "art",
         11
        ],
        [
         "Jersey",
         "mens-fashion",
         5
        ],
        [
         "Jordan",
         "diy-and-crafts",
         5
        ],
        [
         "Kazakhstan",
         "home-decor",
         4
        ],
        [
         "Kenya",
         "diy-and-crafts",
         12
        ],
        [
         "Kiribati",
         "finance",
         17
        ],
        [
         "Korea",
         "travel",
         14
        ],
        [
         "Kuwait",
         "christmas",
         9
        ],
        [
         "Kyrgyz Republic",
         "mens-fashion",
         8
        ],
        [
         "Lao People's Democratic Republic",
         "beauty",
         6
        ],
        [
         "Latvia",
         "travel",
         6
        ],
        [
         "Lebanon",
         "mens-fashion",
         9
        ],
        [
         "Lesotho",
         "art",
         14
        ],
        [
         "Liberia",
         "christmas",
         5
        ],
        [
         "Libyan Arab Jamahiriya",
         "vehicles",
         5
        ],
        [
         "Liechtenstein",
         "vehicles",
         5
        ],
        [
         "Lithuania",
         "education",
         4
        ],
        [
         "Luxembourg",
         "education",
         5
        ],
        [
         "Macao",
         "vehicles",
         11
        ],
        [
         "Macedonia",
         "beauty",
         4
        ],
        [
         "Madagascar",
         "finance",
         4
        ],
        [
         "Malawi",
         "christmas",
         10
        ],
        [
         "Malaysia",
         "vehicles",
         4
        ],
        [
         "Maldives",
         "event-planning",
         5
        ],
        [
         "Mali",
         "tattoos",
         5
        ],
        [
         "Malta",
         "art",
         16
        ],
        [
         "Marshall Islands",
         "event-planning",
         2
        ],
        [
         "Martinique",
         "art",
         9
        ],
        [
         "Mauritania",
         "christmas",
         2
        ],
        [
         "Mauritius",
         "mens-fashion",
         5
        ],
        [
         "Mayotte",
         "diy-and-crafts",
         9
        ],
        [
         "Mexico",
         "vehicles",
         5
        ],
        [
         "Micronesia",
         "event-planning",
         10
        ],
        [
         "Moldova",
         "beauty",
         6
        ],
        [
         "Monaco",
         "vehicles",
         4
        ],
        [
         "Mongolia",
         "travel",
         6
        ],
        [
         "Montenegro",
         "quotes",
         1
        ],
        [
         "Montserrat",
         "art",
         10
        ],
        [
         "Morocco",
         "quotes",
         14
        ],
        [
         "Mozambique",
         "home-decor",
         12
        ],
        [
         "Myanmar",
         "christmas",
         3
        ],
        [
         "Namibia",
         "vehicles",
         8
        ],
        [
         "Nauru",
         "beauty",
         9
        ],
        [
         "Nepal",
         "christmas",
         3
        ],
        [
         "Netherlands",
         "home-decor",
         14
        ],
        [
         "Netherlands Antilles",
         "beauty",
         8
        ],
        [
         "New Caledonia",
         "mens-fashion",
         2
        ],
        [
         "New Zealand",
         "mens-fashion",
         5
        ],
        [
         "Nicaragua",
         "mens-fashion",
         8
        ],
        [
         "Niger",
         "christmas",
         5
        ],
        [
         "Nigeria",
         "education",
         8
        ],
        [
         "Niue",
         "tattoos",
         2
        ],
        [
         "Norfolk Island",
         "diy-and-crafts",
         16
        ],
        [
         "Northern Mariana Islands",
         "art",
         1
        ],
        [
         "Norway",
         "art",
         4
        ],
        [
         "Oman",
         "finance",
         5
        ],
        [
         "Pakistan",
         "event-planning",
         4
        ],
        [
         "Palau",
         "quotes",
         4
        ],
        [
         "Palestinian Territory",
         "art",
         8
        ],
        [
         "Panama",
         "beauty",
         4
        ],
        [
         "Papua New Guinea",
         "quotes",
         9
        ],
        [
         "Paraguay",
         "vehicles",
         6
        ],
        [
         "Peru",
         "tattoos",
         5
        ],
        [
         "Philippines",
         "finance",
         9
        ],
        [
         "Pitcairn Islands",
         "event-planning",
         16
        ],
        [
         "Poland",
         "beauty",
         2
        ],
        [
         "Portugal",
         "beauty",
         4
        ],
        [
         "Puerto Rico",
         "christmas",
         2
        ],
        [
         "Qatar",
         "beauty",
         5
        ],
        [
         "Reunion",
         "finance",
         4
        ],
        [
         "Romania",
         "tattoos",
         9
        ],
        [
         "Russian Federation",
         "finance",
         4
        ],
        [
         "Rwanda",
         "mens-fashion",
         4
        ],
        [
         "Saint Barthelemy",
         "christmas",
         4
        ],
        [
         "Saint Helena",
         "quotes",
         4
        ],
        [
         "Saint Kitts and Nevis",
         "vehicles",
         5
        ],
        [
         "Saint Lucia",
         "education",
         1
        ],
        [
         "Saint Martin",
         "education",
         4
        ],
        [
         "Saint Pierre and Miquelon",
         "mens-fashion",
         13
        ],
        [
         "Saint Vincent and the Grenadines",
         "christmas",
         2
        ],
        [
         "Samoa",
         "diy-and-crafts",
         4
        ],
        [
         "San Marino",
         "home-decor",
         5
        ],
        [
         "Sao Tome and Principe",
         "finance",
         1
        ],
        [
         "Saudi Arabia",
         "finance",
         4
        ],
        [
         "Senegal",
         "beauty",
         4
        ],
        [
         "Serbia",
         "vehicles",
         9
        ],
        [
         "Seychelles",
         "christmas",
         5
        ],
        [
         "Sierra Leone",
         "home-decor",
         4
        ],
        [
         "Singapore",
         "mens-fashion",
         4
        ],
        [
         "Slovakia (Slovak Republic)",
         "vehicles",
         5
        ],
        [
         "Slovenia",
         "art",
         1
        ],
        [
         "Solomon Islands",
         "art",
         4
        ],
        [
         "Somalia",
         "travel",
         4
        ],
        [
         "South Africa",
         "vehicles",
         5
        ],
        [
         "South Georgia and the South Sandwich Islands",
         "finance",
         4
        ],
        [
         "Spain",
         "tattoos",
         1
        ],
        [
         "Sri Lanka",
         "mens-fashion",
         2
        ],
        [
         "Sudan",
         "education",
         9
        ],
        [
         "Suriname",
         "event-planning",
         1
        ],
        [
         "Svalbard & Jan Mayen Islands",
         "travel",
         4
        ],
        [
         "Swaziland",
         "quotes",
         5
        ],
        [
         "Sweden",
         "mens-fashion",
         10
        ],
        [
         "Switzerland",
         "vehicles",
         5
        ],
        [
         "Syrian Arab Republic",
         "home-decor",
         2
        ],
        [
         "Taiwan",
         "vehicles",
         6
        ],
        [
         "Tajikistan",
         "beauty",
         2
        ],
        [
         "Tanzania",
         "travel",
         2
        ],
        [
         "Thailand",
         "event-planning",
         4
        ],
        [
         "Timor-Leste",
         "travel",
         5
        ],
        [
         "Togo",
         "mens-fashion",
         4
        ],
        [
         "Tokelau",
         "art",
         5
        ],
        [
         "Tonga",
         "beauty",
         5
        ],
        [
         "Trinidad and Tobago",
         "christmas",
         5
        ],
        [
         "Tunisia",
         "travel",
         4
        ],
        [
         "Turkey",
         "education",
         2
        ],
        [
         "Turkmenistan",
         "diy-and-crafts",
         4
        ],
        [
         "Turks and Caicos Islands",
         "event-planning",
         6
        ],
        [
         "Tuvalu",
         "beauty",
         4
        ],
        [
         "Uganda",
         "christmas",
         5
        ],
        [
         "Ukraine",
         "finance",
         4
        ],
        [
         "United Kingdom",
         "home-decor",
         1
        ],
        [
         "United States Minor Outlying Islands",
         "beauty",
         4
        ],
        [
         "United States Virgin Islands",
         "quotes",
         4
        ],
        [
         "United States of America",
         "tattoos",
         5
        ],
        [
         "Uruguay",
         "beauty",
         1
        ],
        [
         "Uzbekistan",
         "quotes",
         4
        ],
        [
         "Vanuatu",
         "christmas",
         1
        ],
        [
         "Venezuela",
         "event-planning",
         5
        ],
        [
         "Vietnam",
         "quotes",
         4
        ],
        [
         "Wallis and Futuna",
         "home-decor",
         4
        ],
        [
         "Western Sahara",
         "travel",
         4
        ],
        [
         "Yemen",
         "christmas",
         3
        ],
        [
         "Zambia",
         "mens-fashion",
         2
        ]
       ],
       "datasetInfos": [],
       "dbfsResultPath": null,
       "isJsonSchema": true,
       "metadata": {
        "dataframeName": "_sqldf",
        "executionCount": 10
       },
       "overflow": false,
       "plotOptions": {
        "customPlotOptions": {},
        "displayType": "table",
        "pivotAggregation": null,
        "pivotColumns": null,
        "xColumns": null,
        "yColumns": null
       },
       "removedWidgets": [],
       "schema": [
        {
         "metadata": "{}",
         "name": "country",
         "type": "\"string\""
        },
        {
         "metadata": "{}",
         "name": "category",
         "type": "\"string\""
        },
        {
         "metadata": "{}",
         "name": "category_count",
         "type": "\"long\""
        }
       ],
       "type": "table"
      }
     },
     "output_type": "display_data"
    }
   ],
   "source": [
    "%sql\n",
    "WITH category_counts AS (\n",
    "    SELECT \n",
    "        country,\n",
    "        category,\n",
    "        COUNT(*) AS category_count,\n",
    "        ROW_NUMBER() OVER (PARTITION BY country ORDER BY COUNT(*) DESC) AS row_num\n",
    "    FROM \n",
    "        df_pin_geo\n",
    "    GROUP BY \n",
    "        country, \n",
    "        category\n",
    ")\n",
    "SELECT \n",
    "    country,\n",
    "    category,\n",
    "    category_count\n",
    "FROM \n",
    "    category_counts\n",
    "WHERE \n",
    "    row_num = 1\n",
    "ORDER BY \n",
    "    country;"
   ]
  },
  {
   "cell_type": "markdown",
   "metadata": {
    "application/vnd.databricks.v1+cell": {
     "cellMetadata": {},
     "inputWidgets": {},
     "nuid": "563549b1-8614-4d68-ab4e-1b02346ed1bd",
     "showTitle": false,
     "tableResultSettingsMap": {},
     "title": ""
    }
   },
   "source": [
    "### Task 5: \n",
    "Find which was the most popular category between 2018 and 2022 and the number of posts."
   ]
  },
  {
   "cell_type": "code",
   "execution_count": 0,
   "metadata": {
    "application/vnd.databricks.v1+cell": {
     "cellMetadata": {
      "byteLimit": 2048000,
      "rowLimit": 10000
     },
     "inputWidgets": {},
     "nuid": "a5e20c2c-67aa-4583-8917-beafa6b5a800",
     "showTitle": false,
     "tableResultSettingsMap": {},
     "title": ""
    }
   },
   "outputs": [
    {
     "output_type": "display_data",
     "data": {
      "text/html": [
       "<style scoped>\n",
       "  .table-result-container {\n",
       "    max-height: 300px;\n",
       "    overflow: auto;\n",
       "  }\n",
       "  table, th, td {\n",
       "    border: 1px solid black;\n",
       "    border-collapse: collapse;\n",
       "  }\n",
       "  th, td {\n",
       "    padding: 5px;\n",
       "  }\n",
       "  th {\n",
       "    text-align: left;\n",
       "  }\n",
       "</style><div class='table-result-container'><table class='table-result'><thead style='background-color: white'><tr><th>post_year</th><th>category</th><th>category_count</th></tr></thead><tbody><tr><td>2019</td><td>christmas</td><td>134</td></tr><tr><td>2018</td><td>mens-fashion</td><td>99</td></tr><tr><td>2022</td><td>beauty</td><td>92</td></tr><tr><td>2020</td><td>mens-fashion</td><td>115</td></tr><tr><td>2021</td><td>christmas</td><td>104</td></tr><tr><td>2019</td><td>education</td><td>122</td></tr><tr><td>2018</td><td>travel</td><td>118</td></tr><tr><td>2020</td><td>education</td><td>99</td></tr><tr><td>2020</td><td>diy-and-crafts</td><td>122</td></tr><tr><td>2020</td><td>beauty</td><td>82</td></tr><tr><td>2018</td><td>christmas</td><td>157</td></tr><tr><td>2019</td><td>finance</td><td>85</td></tr><tr><td>2019</td><td>diy-and-crafts</td><td>97</td></tr><tr><td>2019</td><td>quotes</td><td>99</td></tr><tr><td>2021</td><td>event-planning</td><td>97</td></tr><tr><td>2022</td><td>tattoos</td><td>99</td></tr><tr><td>2018</td><td>art</td><td>112</td></tr><tr><td>2021</td><td>tattoos</td><td>115</td></tr><tr><td>2022</td><td>finance</td><td>105</td></tr><tr><td>2022</td><td>education</td><td>60</td></tr><tr><td>2021</td><td>quotes</td><td>141</td></tr><tr><td>2019</td><td>vehicles</td><td>96</td></tr><tr><td>2019</td><td>beauty</td><td>83</td></tr><tr><td>2019</td><td>travel</td><td>111</td></tr><tr><td>2019</td><td>art</td><td>124</td></tr><tr><td>2018</td><td>tattoos</td><td>88</td></tr><tr><td>2021</td><td>diy-and-crafts</td><td>99</td></tr><tr><td>2019</td><td>home-decor</td><td>104</td></tr><tr><td>2020</td><td>event-planning</td><td>98</td></tr><tr><td>2022</td><td>travel</td><td>89</td></tr><tr><td>2018</td><td>finance</td><td>91</td></tr><tr><td>2020</td><td>christmas</td><td>104</td></tr><tr><td>2021</td><td>beauty</td><td>63</td></tr><tr><td>2022</td><td>quotes</td><td>136</td></tr><tr><td>2022</td><td>mens-fashion</td><td>83</td></tr><tr><td>2018</td><td>home-decor</td><td>107</td></tr><tr><td>2021</td><td>education</td><td>151</td></tr><tr><td>2018</td><td>quotes</td><td>115</td></tr><tr><td>2019</td><td>event-planning</td><td>102</td></tr><tr><td>2021</td><td>home-decor</td><td>77</td></tr><tr><td>2021</td><td>mens-fashion</td><td>103</td></tr><tr><td>2020</td><td>art</td><td>138</td></tr><tr><td>2022</td><td>event-planning</td><td>86</td></tr><tr><td>2020</td><td>finance</td><td>133</td></tr><tr><td>2022</td><td>christmas</td><td>130</td></tr><tr><td>2018</td><td>diy-and-crafts</td><td>99</td></tr><tr><td>2021</td><td>finance</td><td>110</td></tr><tr><td>2022</td><td>art</td><td>77</td></tr><tr><td>2020</td><td>home-decor</td><td>90</td></tr><tr><td>2021</td><td>travel</td><td>98</td></tr><tr><td>2019</td><td>mens-fashion</td><td>101</td></tr><tr><td>2020</td><td>quotes</td><td>100</td></tr><tr><td>2021</td><td>vehicles</td><td>89</td></tr><tr><td>2021</td><td>art</td><td>119</td></tr><tr><td>2018</td><td>vehicles</td><td>92</td></tr><tr><td>2022</td><td>home-decor</td><td>75</td></tr><tr><td>2020</td><td>vehicles</td><td>64</td></tr><tr><td>2022</td><td>vehicles</td><td>54</td></tr><tr><td>2020</td><td>travel</td><td>90</td></tr><tr><td>2019</td><td>tattoos</td><td>109</td></tr><tr><td>2018</td><td>event-planning</td><td>111</td></tr><tr><td>2018</td><td>beauty</td><td>83</td></tr><tr><td>2022</td><td>diy-and-crafts</td><td>75</td></tr><tr><td>2018</td><td>education</td><td>104</td></tr><tr><td>2020</td><td>tattoos</td><td>78</td></tr></tbody></table></div>"
      ]
     },
     "metadata": {
      "application/vnd.databricks.v1+output": {
       "addedWidgets": {},
       "aggData": [],
       "aggError": "",
       "aggOverflow": false,
       "aggSchema": [],
       "aggSeriesLimitReached": false,
       "aggType": "",
       "arguments": {},
       "columnCustomDisplayInfos": {},
       "data": [
        [
         2019,
         "christmas",
         134
        ],
        [
         2018,
         "mens-fashion",
         99
        ],
        [
         2022,
         "beauty",
         92
        ],
        [
         2020,
         "mens-fashion",
         115
        ],
        [
         2021,
         "christmas",
         104
        ],
        [
         2019,
         "education",
         122
        ],
        [
         2018,
         "travel",
         118
        ],
        [
         2020,
         "education",
         99
        ],
        [
         2020,
         "diy-and-crafts",
         122
        ],
        [
         2020,
         "beauty",
         82
        ],
        [
         2018,
         "christmas",
         157
        ],
        [
         2019,
         "finance",
         85
        ],
        [
         2019,
         "diy-and-crafts",
         97
        ],
        [
         2019,
         "quotes",
         99
        ],
        [
         2021,
         "event-planning",
         97
        ],
        [
         2022,
         "tattoos",
         99
        ],
        [
         2018,
         "art",
         112
        ],
        [
         2021,
         "tattoos",
         115
        ],
        [
         2022,
         "finance",
         105
        ],
        [
         2022,
         "education",
         60
        ],
        [
         2021,
         "quotes",
         141
        ],
        [
         2019,
         "vehicles",
         96
        ],
        [
         2019,
         "beauty",
         83
        ],
        [
         2019,
         "travel",
         111
        ],
        [
         2019,
         "art",
         124
        ],
        [
         2018,
         "tattoos",
         88
        ],
        [
         2021,
         "diy-and-crafts",
         99
        ],
        [
         2019,
         "home-decor",
         104
        ],
        [
         2020,
         "event-planning",
         98
        ],
        [
         2022,
         "travel",
         89
        ],
        [
         2018,
         "finance",
         91
        ],
        [
         2020,
         "christmas",
         104
        ],
        [
         2021,
         "beauty",
         63
        ],
        [
         2022,
         "quotes",
         136
        ],
        [
         2022,
         "mens-fashion",
         83
        ],
        [
         2018,
         "home-decor",
         107
        ],
        [
         2021,
         "education",
         151
        ],
        [
         2018,
         "quotes",
         115
        ],
        [
         2019,
         "event-planning",
         102
        ],
        [
         2021,
         "home-decor",
         77
        ],
        [
         2021,
         "mens-fashion",
         103
        ],
        [
         2020,
         "art",
         138
        ],
        [
         2022,
         "event-planning",
         86
        ],
        [
         2020,
         "finance",
         133
        ],
        [
         2022,
         "christmas",
         130
        ],
        [
         2018,
         "diy-and-crafts",
         99
        ],
        [
         2021,
         "finance",
         110
        ],
        [
         2022,
         "art",
         77
        ],
        [
         2020,
         "home-decor",
         90
        ],
        [
         2021,
         "travel",
         98
        ],
        [
         2019,
         "mens-fashion",
         101
        ],
        [
         2020,
         "quotes",
         100
        ],
        [
         2021,
         "vehicles",
         89
        ],
        [
         2021,
         "art",
         119
        ],
        [
         2018,
         "vehicles",
         92
        ],
        [
         2022,
         "home-decor",
         75
        ],
        [
         2020,
         "vehicles",
         64
        ],
        [
         2022,
         "vehicles",
         54
        ],
        [
         2020,
         "travel",
         90
        ],
        [
         2019,
         "tattoos",
         109
        ],
        [
         2018,
         "event-planning",
         111
        ],
        [
         2018,
         "beauty",
         83
        ],
        [
         2022,
         "diy-and-crafts",
         75
        ],
        [
         2018,
         "education",
         104
        ],
        [
         2020,
         "tattoos",
         78
        ]
       ],
       "datasetInfos": [],
       "dbfsResultPath": null,
       "isJsonSchema": true,
       "metadata": {},
       "overflow": false,
       "plotOptions": {
        "customPlotOptions": {},
        "displayType": "table",
        "pivotAggregation": null,
        "pivotColumns": null,
        "xColumns": null,
        "yColumns": null
       },
       "removedWidgets": [],
       "schema": [
        {
         "metadata": "{}",
         "name": "post_year",
         "type": "\"integer\""
        },
        {
         "metadata": "{}",
         "name": "category",
         "type": "\"string\""
        },
        {
         "metadata": "{}",
         "name": "category_count",
         "type": "\"long\""
        }
       ],
       "type": "table"
      }
     },
     "output_type": "display_data"
    }
   ],
   "source": [
    "from pyspark.sql.functions import year, col\n",
    "\n",
    "# Extract year from the timestamp column\n",
    "df_pin_geo = df_pin_geo.withColumn(\"post_year\", year(\"timestamp\"))\n",
    "\n",
    "# Filter for years between 2018 and 2022\n",
    "df_pin_geo_filtered = df_pin_geo.filter((col(\"post_year\") >= 2018) & (col(\"post_year\") <= 2022))\n",
    "\n",
    "# Group by post_year and category to get the category count\n",
    "df_category_counts = df_pin_geo_filtered.groupBy(\"post_year\", \"category\").count().withColumnRenamed(\"count\", \"category_count\")\n",
    "\n",
    "# Show the result\n",
    "#df_category_counts.show()\n",
    "display(df_category_counts)"
   ]
  },
  {
   "cell_type": "markdown",
   "metadata": {
    "application/vnd.databricks.v1+cell": {
     "cellMetadata": {},
     "inputWidgets": {},
     "nuid": "ed5c68e1-994f-4ac8-82c3-b01caa4a3b83",
     "showTitle": false,
     "tableResultSettingsMap": {},
     "title": ""
    }
   },
   "source": [
    "### Task 6:\n",
    "- Find the user with the most followers in each country."
   ]
  },
  {
   "cell_type": "code",
   "execution_count": 0,
   "metadata": {
    "application/vnd.databricks.v1+cell": {
     "cellMetadata": {
      "byteLimit": 2048000,
      "rowLimit": 10000
     },
     "inputWidgets": {},
     "nuid": "c719afb4-0b27-4a3e-95ab-605028e1172d",
     "showTitle": false,
     "tableResultSettingsMap": {},
     "title": ""
    }
   },
   "outputs": [
    {
     "output_type": "display_data",
     "data": {
      "text/html": [
       "<style scoped>\n",
       "  .table-result-container {\n",
       "    max-height: 300px;\n",
       "    overflow: auto;\n",
       "  }\n",
       "  table, th, td {\n",
       "    border: 1px solid black;\n",
       "    border-collapse: collapse;\n",
       "  }\n",
       "  th, td {\n",
       "    padding: 5px;\n",
       "  }\n",
       "  th {\n",
       "    text-align: left;\n",
       "  }\n",
       "</style><div class='table-result-container'><table class='table-result'><thead style='background-color: white'><tr><th>country</th><th>poster_name</th><th>follower_count</th></tr></thead><tbody><tr><td>Afghanistan</td><td>9GAG</td><td>3000000</td></tr><tr><td>Albania</td><td>The Minds Journal</td><td>5000000</td></tr><tr><td>Algeria</td><td>Apartment Therapy</td><td>5000000</td></tr><tr><td>American Samoa</td><td>Mamas Uncut</td><td>8000000</td></tr><tr><td>Andorra</td><td>Teachers Pay Teachers</td><td>1000000</td></tr><tr><td>Angola</td><td>Tastemade</td><td>8000000</td></tr><tr><td>Anguilla</td><td>We Heart It</td><td>15000000</td></tr><tr><td>Antarctica (the territory South of 60 deg S)</td><td>Refinery29</td><td>1000000</td></tr><tr><td>Antigua and Barbuda</td><td>Country Living Magazine</td><td>1000000</td></tr><tr><td>Argentina</td><td>Cheezburger</td><td>2000000</td></tr><tr><td>Armenia</td><td>Michelle {CraftyMorning.com}</td><td>892000</td></tr><tr><td>Aruba</td><td>GQ Magazine</td><td>874000</td></tr><tr><td>Australia</td><td>Mujer de 10 </td><td>2000000</td></tr><tr><td>Austria</td><td>Allwomenstalk - girl rules </td><td>813000</td></tr><tr><td>Azerbaijan</td><td>Style Me Pretty</td><td>6000000</td></tr><tr><td>Bahamas</td><td>Stylecraze</td><td>2000000</td></tr><tr><td>Bahrain</td><td>Rainy Day Mum</td><td>337000</td></tr><tr><td>Bangladesh</td><td>Better Homes and Gardens</td><td>4000000</td></tr><tr><td>Barbados</td><td>The Creativity Exchange</td><td>410000</td></tr><tr><td>Belarus</td><td>Daily Mail</td><td>2000000</td></tr><tr><td>Belgium</td><td>This Old House</td><td>944000</td></tr><tr><td>Belize</td><td>Julia Berolzheimer</td><td>399000</td></tr><tr><td>Benin</td><td>Total Beauty</td><td>686000</td></tr><tr><td>Bermuda</td><td>3 Boys and a Dog</td><td>83000</td></tr><tr><td>Bhutan</td><td>diana ajih</td><td>141000</td></tr><tr><td>Bolivia</td><td>The Kitchn</td><td>1000000</td></tr><tr><td>Bosnia and Herzegovina</td><td>Stylesatlife</td><td>388000</td></tr><tr><td>Botswana</td><td>OkChicas</td><td>3000000</td></tr><tr><td>Bouvet Island (Bouvetoya)</td><td>POPSUGAR</td><td>5000000</td></tr><tr><td>Brazil</td><td>Lively</td><td>892000</td></tr><tr><td>British Indian Ocean Territory (Chagos Archipelago)</td><td>Shopify</td><td>257000</td></tr><tr><td>British Virgin Islands</td><td>The WHOot</td><td>1000000</td></tr><tr><td>Brunei Darussalam</td><td>Kids Craft Room</td><td>277000</td></tr><tr><td>Bulgaria</td><td>Half Baked Harvest</td><td>912000</td></tr><tr><td>Burkina Faso</td><td>Behance</td><td>6000000</td></tr><tr><td>Burundi</td><td>Studio McGee</td><td>662000</td></tr><tr><td>Cambodia</td><td>Catch My Party</td><td>2000000</td></tr><tr><td>Cameroon</td><td>The Blonde Abroad</td><td>123000</td></tr><tr><td>Canada</td><td>Simply Stacie - Easy Dinner Recipes + Desserts</td><td>422000</td></tr><tr><td>Cape Verde</td><td>The Craft Train</td><td>369000</td></tr><tr><td>Cayman Islands</td><td>InStyle</td><td>1000000</td></tr><tr><td>Central African Republic</td><td>PureWow</td><td>868000</td></tr><tr><td>Chad</td><td>ArchZine FR</td><td>761000</td></tr><tr><td>Chile</td><td>Target</td><td>4000000</td></tr><tr><td>China</td><td>Empowered Sustenance</td><td>127000</td></tr><tr><td>Christmas Island</td><td>Instructables</td><td>3000000</td></tr><tr><td>Cocos (Keeling) Islands</td><td>How Does She</td><td>709000</td></tr><tr><td>Colombia</td><td>DIY Magazine</td><td>466000</td></tr><tr><td>Comoros</td><td>Ruffled</td><td>4000000</td></tr><tr><td>Congo</td><td>Virginia | Fynes Designs : Home Decor, Easy DIY’s, Lifestyle</td><td>410000</td></tr><tr><td>Cook Islands</td><td>Fun Loving Families: Crafts, Games, and Activities for Kids</td><td>31000</td></tr><tr><td>Costa Rica</td><td>Martha Stewart Living</td><td>2000000</td></tr><tr><td>Cote d'Ivoire</td><td>Mom Junction</td><td>565000</td></tr><tr><td>Croatia</td><td>Meraki Lane</td><td>546000</td></tr><tr><td>Cuba</td><td>Cuded Art & Design</td><td>1000000</td></tr><tr><td>Cyprus</td><td>Redbubble</td><td>3000000</td></tr><tr><td>Czech Republic</td><td>Tatertots and Jello .com</td><td>398000</td></tr><tr><td>Denmark</td><td>Kelley Nan</td><td>59000</td></tr><tr><td>Djibouti</td><td>The Dating Divas</td><td>577000</td></tr><tr><td>Dominica</td><td>Monique - Living Life and Learning</td><td>67000</td></tr><tr><td>Dominican Republic</td><td>My Modern Met</td><td>3000000</td></tr><tr><td>Ecuador</td><td>LABONNI</td><td>84000</td></tr><tr><td>Egypt</td><td>Allure</td><td>346000</td></tr><tr><td>El Salvador</td><td>Power of Positivity</td><td>221000</td></tr><tr><td>Equatorial Guinea</td><td>Adventure in You Travel Blog</td><td>54000</td></tr><tr><td>Eritrea</td><td>Core77</td><td>105000</td></tr><tr><td>Estonia</td><td>KLYKER.COM - Just Funny Pictures, No Big Deal!</td><td>27000</td></tr><tr><td>Ethiopia</td><td>eBaumsWorld</td><td>1000000</td></tr><tr><td>Falkland Islands (Malvinas)</td><td>A Blissful Nest</td><td>113000</td></tr><tr><td>Faroe Islands</td><td>British Vogue</td><td>1000000</td></tr><tr><td>Fiji</td><td>Homeschool Giveaways and Freebies</td><td>99000</td></tr><tr><td>Finland</td><td>Buggy and Buddy</td><td>185000</td></tr><tr><td>France</td><td>Glamour</td><td>708000</td></tr><tr><td>French Guiana</td><td>Inkbox Tattoos</td><td>338000</td></tr><tr><td>French Polynesia</td><td>Hunker</td><td>279000</td></tr><tr><td>French Southern Territories</td><td>Don't Waste the Crumbs</td><td>119000</td></tr><tr><td>Gabon</td><td>One Crazy Mom</td><td>175000</td></tr><tr><td>Gambia</td><td>The Travel Hacking Life</td><td>61000</td></tr><tr><td>Georgia</td><td>Susie Allison | Busy Toddler</td><td>203000</td></tr><tr><td>Germany</td><td>Azuro Republic</td><td>122000</td></tr><tr><td>Ghana</td><td>Zina Harrington</td><td>1000000</td></tr><tr><td>Gibraltar</td><td>Top Inspired</td><td>855000</td></tr><tr><td>Greece</td><td>Thirty Handmade Days</td><td>397000</td></tr><tr><td>Greenland</td><td>The Educators' Spin On It</td><td>2000000</td></tr><tr><td>Grenada</td><td>Michael Bliss</td><td>459000</td></tr><tr><td>Guadeloupe</td><td>Kathy+Steve | TBD + TGG + OhMeOhMy</td><td>355000</td></tr><tr><td>Guam</td><td>imgur</td><td>4000000</td></tr><tr><td>Guatemala</td><td>Homedit.com</td><td>965000</td></tr><tr><td>Guernsey</td><td>Y Travel Blog</td><td>4000000</td></tr><tr><td>Guinea</td><td>Cars Zone</td><td>134000</td></tr><tr><td>Guinea-Bissau</td><td>Kristina Buskirk | Toddler Approved</td><td>160000</td></tr><tr><td>Guyana</td><td>Liska @ Adventure in a Box</td><td>49000</td></tr><tr><td>Haiti</td><td>No Time For Flash Cards</td><td>610000</td></tr><tr><td>Heard Island and McDonald Islands</td><td>Real Men Real Style</td><td>487000</td></tr><tr><td>Holy See (Vatican City State)</td><td>Viva Decora</td><td>2000000</td></tr><tr><td>Honduras</td><td>Mad in Crafts</td><td>106000</td></tr><tr><td>Hong Kong</td><td>Remodelista</td><td>991000</td></tr><tr><td>Hungary</td><td>TheFunnyBeaver.Com</td><td>814000</td></tr><tr><td>Iceland</td><td>PositiveMed</td><td>371000</td></tr><tr><td>India</td><td>Rosie's Sketchbook</td><td>235000</td></tr><tr><td>Indonesia</td><td>Forbes</td><td>252000</td></tr><tr><td>Iran</td><td>WeddingWire</td><td>520000</td></tr><tr><td>Iraq</td><td>House Beautiful</td><td>876000</td></tr><tr><td>Ireland</td><td>Deavita.fr</td><td>239000</td></tr><tr><td>Isle of Man</td><td>Quinceanera.com</td><td>195000</td></tr><tr><td>Israel</td><td>On Point Fresh</td><td>44000</td></tr><tr><td>Italy</td><td>BeSpotted </td><td>46000</td></tr><tr><td>Jamaica</td><td>Eating Bird Food</td><td>397000</td></tr><tr><td>Japan</td><td>Beautiful Dawn | Arts & Crafts · Crochet Patterns · Drawing Ideas</td><td>159000</td></tr><tr><td>Jersey</td><td>PrincetonBookReview.com</td><td>9000</td></tr><tr><td>Jordan</td><td>Art of Manliness</td><td>294000</td></tr><tr><td>Kazakhstan</td><td>Christina Maria - DIY Home Improvement + Decor</td><td>75000</td></tr><tr><td>Kenya</td><td>notonthehighstreet.com</td><td>750000</td></tr><tr><td>Kiribati</td><td>MOMtivational // Parenting + Pregnancy + More</td><td>8000</td></tr><tr><td>Korea</td><td>Latest Hairstyles</td><td>627000</td></tr><tr><td>Kuwait</td><td>Green Wedding Shoes</td><td>2000000</td></tr><tr><td>Kyrgyz Republic</td><td>Laura Beth Love</td><td>315000</td></tr><tr><td>Lao People's Democratic Republic</td><td>Cut Out + Keep</td><td>503000</td></tr><tr><td>Latvia</td><td>Royal Fashionist</td><td>188000</td></tr><tr><td>Lebanon</td><td>EtsyUK</td><td>634000</td></tr><tr><td>Lesotho</td><td>The Guardian</td><td>908000</td></tr><tr><td>Liberia</td><td>Happy Hooligans - Crafts and Activities for Kids</td><td>550000</td></tr><tr><td>Libyan Arab Jamahiriya</td><td>miss coco</td><td>157000</td></tr><tr><td>Liechtenstein</td><td>Scrapbook.com</td><td>342000</td></tr><tr><td>Lithuania</td><td>Play Ideas</td><td>52000</td></tr><tr><td>Luxembourg</td><td>Mama In A Stitch</td><td>196000</td></tr><tr><td>Macao</td><td>The Idea Room</td><td>405000</td></tr><tr><td>Macedonia</td><td>Sociedade Moda Masculina</td><td>51000</td></tr><tr><td>Madagascar</td><td>MomAdvice</td><td>112000</td></tr><tr><td>Malawi</td><td>Hertoolbelt</td><td>103000</td></tr><tr><td>Malaysia</td><td>Do Dodson Designs</td><td>87000</td></tr><tr><td>Maldives</td><td>Parents</td><td>416000</td></tr><tr><td>Mali</td><td>Mobile Home Living®</td><td>122000</td></tr><tr><td>Malta</td><td>Iowa Girl Eats</td><td>219000</td></tr><tr><td>Marshall Islands</td><td>Living Rich with Coupons</td><td>60000</td></tr><tr><td>Martinique</td><td>Heart Handmade UK | Craft Room Ideas, Craft Ideas For Adults</td><td>1000000</td></tr><tr><td>Mauritania</td><td>THE SWEETEST DIGS | Home Decor, Stylish DIYs, Homemade</td><td>57000</td></tr><tr><td>Mauritius</td><td>Cool Things- Drawing Ideas , Fashion ,Beautiy and Home Decor</td><td>46000</td></tr><tr><td>Mayotte</td><td>Outfit Trends</td><td>328000</td></tr><tr><td>Mexico</td><td>MUO - Technology, Simplified</td><td>289000</td></tr><tr><td>Micronesia</td><td>Brighter Craft | Art, Crafts & Food Recipes</td><td>156000</td></tr><tr><td>Moldova</td><td>Vintagedancer.com</td><td>168000</td></tr><tr><td>Monaco</td><td>Artists Network</td><td>227000</td></tr><tr><td>Mongolia</td><td>ZAFUL</td><td>893000</td></tr><tr><td>Montenegro</td><td>Life Over C's</td><td>79000</td></tr><tr><td>Montserrat</td><td>EBUYTIDE</td><td>88000</td></tr><tr><td>Morocco</td><td>PLAY & LEARN with Growing a Jeweled Rose</td><td>439000</td></tr><tr><td>Mozambique</td><td>Stylin by Aylin</td><td>83000</td></tr><tr><td>Myanmar</td><td>Hearth and Vine</td><td>88000</td></tr><tr><td>Namibia</td><td>Snappy Gourmet</td><td>168000</td></tr><tr><td>Nauru</td><td>TipHero - Recipes, Ideas & DIYs</td><td>380000</td></tr><tr><td>Nepal</td><td>Living on a Dime to Grow Rich</td><td>197000</td></tr><tr><td>Netherlands</td><td>Tracie Kiernan | Step By Step Painting |</td><td>308000</td></tr><tr><td>Netherlands Antilles</td><td>MVMT Watches</td><td>67000</td></tr><tr><td>New Caledonia</td><td>Afam Uche | Personal Growth | Self Care + Self Improvement</td><td>92000</td></tr><tr><td>New Zealand</td><td>The Kindergarten Connection</td><td>68000</td></tr><tr><td>Nicaragua</td><td>DIY Projects For Teens | Teen Crafts & Room Decor</td><td>175000</td></tr><tr><td>Niger</td><td>Bridget Hennessey</td><td>17000</td></tr><tr><td>Nigeria</td><td>CanvasBag.Co</td><td>88000</td></tr><tr><td>Niue</td><td>PositiveFox - Community for Creative People</td><td>341000</td></tr><tr><td>Norfolk Island</td><td>Cute DIY Projects</td><td>301000</td></tr><tr><td>Northern Mariana Islands</td><td>AL.com</td><td>31000</td></tr><tr><td>Norway</td><td>epicurious</td><td>409000</td></tr><tr><td>Oman</td><td>Mindy Benkert | Simple Pure Beauty</td><td>69000</td></tr><tr><td>Pakistan</td><td>Buyer Select</td><td>441000</td></tr><tr><td>Palau</td><td>InventorSpot</td><td>63000</td></tr><tr><td>Palestinian Territory</td><td>Onedio.com</td><td>561000</td></tr><tr><td>Panama</td><td>Alanna | Periodic Adventures</td><td>1000</td></tr><tr><td>Papua New Guinea</td><td>DaytoDay Adventures | Blue Daisy | Home Decor | Crafts | Rag Rugs</td><td>21000</td></tr><tr><td>Paraguay</td><td>Godiygo</td><td>40000</td></tr><tr><td>Peru</td><td>Nashvegasmama</td><td>6000</td></tr><tr><td>Philippines</td><td>Manya Agrawal</td><td>15000</td></tr><tr><td>Pitcairn Islands</td><td>Marla Meridith</td><td>671000</td></tr><tr><td>Poland</td><td>Mosswood Connections</td><td>16000</td></tr><tr><td>Portugal</td><td>DIY Beautify - Creating beauty at home</td><td>56000</td></tr><tr><td>Puerto Rico</td><td>Stephanie Lynn</td><td>116000</td></tr><tr><td>Qatar</td><td>Hudson Farmhouse</td><td>45000</td></tr><tr><td>Reunion</td><td>eHow en Español</td><td>144000</td></tr><tr><td>Romania</td><td>Soberbadassery | Your Free Online Guide To Sober Living </td><td>9000</td></tr><tr><td>Russian Federation</td><td>Ana White</td><td>1000000</td></tr><tr><td>Rwanda</td><td>Amy Greene | Mainly Homemade</td><td>24000</td></tr><tr><td>Saint Barthelemy</td><td>ThePinkDream</td><td>78000</td></tr><tr><td>Saint Helena</td><td>Book Riot</td><td>154000</td></tr><tr><td>Saint Kitts and Nevis</td><td>vintagetopia</td><td>171000</td></tr><tr><td>Saint Lucia</td><td>Teaching Exceptional Kinders</td><td>3000</td></tr><tr><td>Saint Martin</td><td>Organizing Made Fun</td><td>167000</td></tr><tr><td>Saint Pierre and Miquelon</td><td>DontPayFull.com | Coupons & Deals | Money-Saving Tips</td><td>142000</td></tr><tr><td>Saint Vincent and the Grenadines</td><td>SHTFPreparedness</td><td>380000</td></tr><tr><td>Samoa</td><td>Six Figures Under | Frugal Living + Family Finance +Paying off Debt</td><td>32000</td></tr><tr><td>San Marino</td><td>Sarah Joy Blog</td><td>125000</td></tr><tr><td>Sao Tome and Principe</td><td>kayyla.april</td><td>2000</td></tr><tr><td>Saudi Arabia</td><td>The Navage Patch®</td><td>136000</td></tr><tr><td>Senegal</td><td>Life-n-Reflection</td><td>24000</td></tr><tr><td>Serbia</td><td>Keitha Rankin</td><td>248</td></tr><tr><td>Seychelles</td><td>ALL FOR WOMAN</td><td>21000</td></tr><tr><td>Sierra Leone</td><td>Mindfully Gray</td><td>16000</td></tr><tr><td>Singapore</td><td>Hey Let's Make Stuff</td><td>88000</td></tr><tr><td>Slovakia (Slovak Republic)</td><td>Molly - Lucky Learning with Molly Lynch</td><td>21000</td></tr><tr><td>Slovenia</td><td>Houzz Pro</td><td>108000</td></tr><tr><td>Solomon Islands</td><td>Christy from Our Southern Home</td><td>81000</td></tr><tr><td>Somalia</td><td>Southern Hospitality</td><td>202000</td></tr><tr><td>South Africa</td><td>Bobbie Byrd | Clumsy Crafter | DIY & Crafts</td><td>44000</td></tr><tr><td>South Georgia and the South Sandwich Islands</td><td>Classic Nation</td><td>75000</td></tr><tr><td>Spain</td><td>Fred Anyona | Style and Fashion Blog | Photographer</td><td>3000</td></tr><tr><td>Sri Lanka</td><td>Abd El Hakim</td><td>1000</td></tr><tr><td>Sudan</td><td>Literacy and Math Ideas</td><td>63000</td></tr><tr><td>Suriname</td><td>Modern MOH | How to be a Head Bridesmaid in Charge</td><td>10000</td></tr><tr><td>Svalbard & Jan Mayen Islands</td><td>Merissa (Little House Living) | Simple Living + Frugal Living</td><td>152000</td></tr><tr><td>Swaziland</td><td>The Queen Life</td><td>6000</td></tr><tr><td>Sweden</td><td>ELLE Magazine (US)</td><td>657000</td></tr><tr><td>Switzerland</td><td>Top Gear</td><td>33000</td></tr><tr><td>Syrian Arab Republic</td><td>The Crafted Sparrow</td><td>60000</td></tr><tr><td>Taiwan</td><td>The Creek Line House</td><td>259000</td></tr><tr><td>Tajikistan</td><td>Fun Learning for Kids</td><td>217000</td></tr><tr><td>Tanzania</td><td>Frugal Fanatic | Save Money & Make Money</td><td>303000</td></tr><tr><td>Thailand</td><td>Becky | Clean Mama </td><td>219000</td></tr><tr><td>Timor-Leste</td><td>Picsart</td><td>8000000</td></tr><tr><td>Togo</td><td>debra</td><td>4000</td></tr><tr><td>Tokelau</td><td>Budget Savvy Diva</td><td>384000</td></tr><tr><td>Tonga</td><td>Lucks List</td><td>364</td></tr><tr><td>Trinidad and Tobago</td><td>Uplifting Mayhem</td><td>66000</td></tr><tr><td>Tunisia</td><td>El blog amarillo</td><td>66000</td></tr><tr><td>Turkey</td><td>Tastefully Frugal</td><td>40000</td></tr><tr><td>Turkmenistan</td><td>Jennifer Maker ❤️ DIY Home Decor + Craft + Paper Flowers</td><td>193000</td></tr><tr><td>Turks and Caicos Islands</td><td>Let's Eat Cake</td><td>19000</td></tr><tr><td>Tuvalu</td><td>The Budget Babe</td><td>40000</td></tr><tr><td>Uganda</td><td>Inspired by Charm</td><td>3000000</td></tr><tr><td>Ukraine</td><td>Adventures of a DIY Mom</td><td>45000</td></tr><tr><td>United Kingdom</td><td>Becky Niebruegge</td><td>4000</td></tr><tr><td>United States Minor Outlying Islands</td><td>Bloglovin'</td><td>3000000</td></tr><tr><td>United States Virgin Islands</td><td>Ugly Duckling House | DIY, Home, Woodworking, Crafts & Recipes</td><td>4000000</td></tr><tr><td>United States of America</td><td>Evolution of Style</td><td>47000</td></tr><tr><td>Uruguay</td><td>Erin | Mother's Niche</td><td>97000</td></tr><tr><td>Uzbekistan</td><td>giil</td><td>57</td></tr><tr><td>Vanuatu</td><td>Digital Art | Fine Art | Abstract Art | Graphic Art | Photography</td><td>10000</td></tr><tr><td>Venezuela</td><td>My Poppet - A Craft, Travel & Food Blog for Colourful Living</td><td>100000</td></tr><tr><td>Vietnam</td><td>Living Well Spending Less</td><td>326000</td></tr><tr><td>Wallis and Futuna</td><td>ThriftyFun</td><td>161000</td></tr><tr><td>Western Sahara</td><td>Body Unburdened | Natural Skincare | Clear Skin | Holistic Health</td><td>62000</td></tr><tr><td>Yemen</td><td>ClioMakeUp</td><td>152000</td></tr><tr><td>Zambia</td><td>HALFTEE Layering Fashions</td><td>32000</td></tr></tbody></table></div>"
      ]
     },
     "metadata": {
      "application/vnd.databricks.v1+output": {
       "addedWidgets": {},
       "aggData": [],
       "aggError": "",
       "aggOverflow": false,
       "aggSchema": [],
       "aggSeriesLimitReached": false,
       "aggType": "",
       "arguments": {},
       "columnCustomDisplayInfos": {},
       "data": [
        [
         "Afghanistan",
         "9GAG",
         3000000
        ],
        [
         "Albania",
         "The Minds Journal",
         5000000
        ],
        [
         "Algeria",
         "Apartment Therapy",
         5000000
        ],
        [
         "American Samoa",
         "Mamas Uncut",
         8000000
        ],
        [
         "Andorra",
         "Teachers Pay Teachers",
         1000000
        ],
        [
         "Angola",
         "Tastemade",
         8000000
        ],
        [
         "Anguilla",
         "We Heart It",
         15000000
        ],
        [
         "Antarctica (the territory South of 60 deg S)",
         "Refinery29",
         1000000
        ],
        [
         "Antigua and Barbuda",
         "Country Living Magazine",
         1000000
        ],
        [
         "Argentina",
         "Cheezburger",
         2000000
        ],
        [
         "Armenia",
         "Michelle {CraftyMorning.com}",
         892000
        ],
        [
         "Aruba",
         "GQ Magazine",
         874000
        ],
        [
         "Australia",
         "Mujer de 10 ",
         2000000
        ],
        [
         "Austria",
         "Allwomenstalk - girl rules ",
         813000
        ],
        [
         "Azerbaijan",
         "Style Me Pretty",
         6000000
        ],
        [
         "Bahamas",
         "Stylecraze",
         2000000
        ],
        [
         "Bahrain",
         "Rainy Day Mum",
         337000
        ],
        [
         "Bangladesh",
         "Better Homes and Gardens",
         4000000
        ],
        [
         "Barbados",
         "The Creativity Exchange",
         410000
        ],
        [
         "Belarus",
         "Daily Mail",
         2000000
        ],
        [
         "Belgium",
         "This Old House",
         944000
        ],
        [
         "Belize",
         "Julia Berolzheimer",
         399000
        ],
        [
         "Benin",
         "Total Beauty",
         686000
        ],
        [
         "Bermuda",
         "3 Boys and a Dog",
         83000
        ],
        [
         "Bhutan",
         "diana ajih",
         141000
        ],
        [
         "Bolivia",
         "The Kitchn",
         1000000
        ],
        [
         "Bosnia and Herzegovina",
         "Stylesatlife",
         388000
        ],
        [
         "Botswana",
         "OkChicas",
         3000000
        ],
        [
         "Bouvet Island (Bouvetoya)",
         "POPSUGAR",
         5000000
        ],
        [
         "Brazil",
         "Lively",
         892000
        ],
        [
         "British Indian Ocean Territory (Chagos Archipelago)",
         "Shopify",
         257000
        ],
        [
         "British Virgin Islands",
         "The WHOot",
         1000000
        ],
        [
         "Brunei Darussalam",
         "Kids Craft Room",
         277000
        ],
        [
         "Bulgaria",
         "Half Baked Harvest",
         912000
        ],
        [
         "Burkina Faso",
         "Behance",
         6000000
        ],
        [
         "Burundi",
         "Studio McGee",
         662000
        ],
        [
         "Cambodia",
         "Catch My Party",
         2000000
        ],
        [
         "Cameroon",
         "The Blonde Abroad",
         123000
        ],
        [
         "Canada",
         "Simply Stacie - Easy Dinner Recipes + Desserts",
         422000
        ],
        [
         "Cape Verde",
         "The Craft Train",
         369000
        ],
        [
         "Cayman Islands",
         "InStyle",
         1000000
        ],
        [
         "Central African Republic",
         "PureWow",
         868000
        ],
        [
         "Chad",
         "ArchZine FR",
         761000
        ],
        [
         "Chile",
         "Target",
         4000000
        ],
        [
         "China",
         "Empowered Sustenance",
         127000
        ],
        [
         "Christmas Island",
         "Instructables",
         3000000
        ],
        [
         "Cocos (Keeling) Islands",
         "How Does She",
         709000
        ],
        [
         "Colombia",
         "DIY Magazine",
         466000
        ],
        [
         "Comoros",
         "Ruffled",
         4000000
        ],
        [
         "Congo",
         "Virginia | Fynes Designs : Home Decor, Easy DIY’s, Lifestyle",
         410000
        ],
        [
         "Cook Islands",
         "Fun Loving Families: Crafts, Games, and Activities for Kids",
         31000
        ],
        [
         "Costa Rica",
         "Martha Stewart Living",
         2000000
        ],
        [
         "Cote d'Ivoire",
         "Mom Junction",
         565000
        ],
        [
         "Croatia",
         "Meraki Lane",
         546000
        ],
        [
         "Cuba",
         "Cuded Art & Design",
         1000000
        ],
        [
         "Cyprus",
         "Redbubble",
         3000000
        ],
        [
         "Czech Republic",
         "Tatertots and Jello .com",
         398000
        ],
        [
         "Denmark",
         "Kelley Nan",
         59000
        ],
        [
         "Djibouti",
         "The Dating Divas",
         577000
        ],
        [
         "Dominica",
         "Monique - Living Life and Learning",
         67000
        ],
        [
         "Dominican Republic",
         "My Modern Met",
         3000000
        ],
        [
         "Ecuador",
         "LABONNI",
         84000
        ],
        [
         "Egypt",
         "Allure",
         346000
        ],
        [
         "El Salvador",
         "Power of Positivity",
         221000
        ],
        [
         "Equatorial Guinea",
         "Adventure in You Travel Blog",
         54000
        ],
        [
         "Eritrea",
         "Core77",
         105000
        ],
        [
         "Estonia",
         "KLYKER.COM - Just Funny Pictures, No Big Deal!",
         27000
        ],
        [
         "Ethiopia",
         "eBaumsWorld",
         1000000
        ],
        [
         "Falkland Islands (Malvinas)",
         "A Blissful Nest",
         113000
        ],
        [
         "Faroe Islands",
         "British Vogue",
         1000000
        ],
        [
         "Fiji",
         "Homeschool Giveaways and Freebies",
         99000
        ],
        [
         "Finland",
         "Buggy and Buddy",
         185000
        ],
        [
         "France",
         "Glamour",
         708000
        ],
        [
         "French Guiana",
         "Inkbox Tattoos",
         338000
        ],
        [
         "French Polynesia",
         "Hunker",
         279000
        ],
        [
         "French Southern Territories",
         "Don't Waste the Crumbs",
         119000
        ],
        [
         "Gabon",
         "One Crazy Mom",
         175000
        ],
        [
         "Gambia",
         "The Travel Hacking Life",
         61000
        ],
        [
         "Georgia",
         "Susie Allison | Busy Toddler",
         203000
        ],
        [
         "Germany",
         "Azuro Republic",
         122000
        ],
        [
         "Ghana",
         "Zina Harrington",
         1000000
        ],
        [
         "Gibraltar",
         "Top Inspired",
         855000
        ],
        [
         "Greece",
         "Thirty Handmade Days",
         397000
        ],
        [
         "Greenland",
         "The Educators' Spin On It",
         2000000
        ],
        [
         "Grenada",
         "Michael Bliss",
         459000
        ],
        [
         "Guadeloupe",
         "Kathy+Steve | TBD + TGG + OhMeOhMy",
         355000
        ],
        [
         "Guam",
         "imgur",
         4000000
        ],
        [
         "Guatemala",
         "Homedit.com",
         965000
        ],
        [
         "Guernsey",
         "Y Travel Blog",
         4000000
        ],
        [
         "Guinea",
         "Cars Zone",
         134000
        ],
        [
         "Guinea-Bissau",
         "Kristina Buskirk | Toddler Approved",
         160000
        ],
        [
         "Guyana",
         "Liska @ Adventure in a Box",
         49000
        ],
        [
         "Haiti",
         "No Time For Flash Cards",
         610000
        ],
        [
         "Heard Island and McDonald Islands",
         "Real Men Real Style",
         487000
        ],
        [
         "Holy See (Vatican City State)",
         "Viva Decora",
         2000000
        ],
        [
         "Honduras",
         "Mad in Crafts",
         106000
        ],
        [
         "Hong Kong",
         "Remodelista",
         991000
        ],
        [
         "Hungary",
         "TheFunnyBeaver.Com",
         814000
        ],
        [
         "Iceland",
         "PositiveMed",
         371000
        ],
        [
         "India",
         "Rosie's Sketchbook",
         235000
        ],
        [
         "Indonesia",
         "Forbes",
         252000
        ],
        [
         "Iran",
         "WeddingWire",
         520000
        ],
        [
         "Iraq",
         "House Beautiful",
         876000
        ],
        [
         "Ireland",
         "Deavita.fr",
         239000
        ],
        [
         "Isle of Man",
         "Quinceanera.com",
         195000
        ],
        [
         "Israel",
         "On Point Fresh",
         44000
        ],
        [
         "Italy",
         "BeSpotted ",
         46000
        ],
        [
         "Jamaica",
         "Eating Bird Food",
         397000
        ],
        [
         "Japan",
         "Beautiful Dawn | Arts & Crafts · Crochet Patterns · Drawing Ideas",
         159000
        ],
        [
         "Jersey",
         "PrincetonBookReview.com",
         9000
        ],
        [
         "Jordan",
         "Art of Manliness",
         294000
        ],
        [
         "Kazakhstan",
         "Christina Maria - DIY Home Improvement + Decor",
         75000
        ],
        [
         "Kenya",
         "notonthehighstreet.com",
         750000
        ],
        [
         "Kiribati",
         "MOMtivational // Parenting + Pregnancy + More",
         8000
        ],
        [
         "Korea",
         "Latest Hairstyles",
         627000
        ],
        [
         "Kuwait",
         "Green Wedding Shoes",
         2000000
        ],
        [
         "Kyrgyz Republic",
         "Laura Beth Love",
         315000
        ],
        [
         "Lao People's Democratic Republic",
         "Cut Out + Keep",
         503000
        ],
        [
         "Latvia",
         "Royal Fashionist",
         188000
        ],
        [
         "Lebanon",
         "EtsyUK",
         634000
        ],
        [
         "Lesotho",
         "The Guardian",
         908000
        ],
        [
         "Liberia",
         "Happy Hooligans - Crafts and Activities for Kids",
         550000
        ],
        [
         "Libyan Arab Jamahiriya",
         "miss coco",
         157000
        ],
        [
         "Liechtenstein",
         "Scrapbook.com",
         342000
        ],
        [
         "Lithuania",
         "Play Ideas",
         52000
        ],
        [
         "Luxembourg",
         "Mama In A Stitch",
         196000
        ],
        [
         "Macao",
         "The Idea Room",
         405000
        ],
        [
         "Macedonia",
         "Sociedade Moda Masculina",
         51000
        ],
        [
         "Madagascar",
         "MomAdvice",
         112000
        ],
        [
         "Malawi",
         "Hertoolbelt",
         103000
        ],
        [
         "Malaysia",
         "Do Dodson Designs",
         87000
        ],
        [
         "Maldives",
         "Parents",
         416000
        ],
        [
         "Mali",
         "Mobile Home Living®",
         122000
        ],
        [
         "Malta",
         "Iowa Girl Eats",
         219000
        ],
        [
         "Marshall Islands",
         "Living Rich with Coupons",
         60000
        ],
        [
         "Martinique",
         "Heart Handmade UK | Craft Room Ideas, Craft Ideas For Adults",
         1000000
        ],
        [
         "Mauritania",
         "THE SWEETEST DIGS | Home Decor, Stylish DIYs, Homemade",
         57000
        ],
        [
         "Mauritius",
         "Cool Things- Drawing Ideas , Fashion ,Beautiy and Home Decor",
         46000
        ],
        [
         "Mayotte",
         "Outfit Trends",
         328000
        ],
        [
         "Mexico",
         "MUO - Technology, Simplified",
         289000
        ],
        [
         "Micronesia",
         "Brighter Craft | Art, Crafts & Food Recipes",
         156000
        ],
        [
         "Moldova",
         "Vintagedancer.com",
         168000
        ],
        [
         "Monaco",
         "Artists Network",
         227000
        ],
        [
         "Mongolia",
         "ZAFUL",
         893000
        ],
        [
         "Montenegro",
         "Life Over C's",
         79000
        ],
        [
         "Montserrat",
         "EBUYTIDE",
         88000
        ],
        [
         "Morocco",
         "PLAY & LEARN with Growing a Jeweled Rose",
         439000
        ],
        [
         "Mozambique",
         "Stylin by Aylin",
         83000
        ],
        [
         "Myanmar",
         "Hearth and Vine",
         88000
        ],
        [
         "Namibia",
         "Snappy Gourmet",
         168000
        ],
        [
         "Nauru",
         "TipHero - Recipes, Ideas & DIYs",
         380000
        ],
        [
         "Nepal",
         "Living on a Dime to Grow Rich",
         197000
        ],
        [
         "Netherlands",
         "Tracie Kiernan | Step By Step Painting |",
         308000
        ],
        [
         "Netherlands Antilles",
         "MVMT Watches",
         67000
        ],
        [
         "New Caledonia",
         "Afam Uche | Personal Growth | Self Care + Self Improvement",
         92000
        ],
        [
         "New Zealand",
         "The Kindergarten Connection",
         68000
        ],
        [
         "Nicaragua",
         "DIY Projects For Teens | Teen Crafts & Room Decor",
         175000
        ],
        [
         "Niger",
         "Bridget Hennessey",
         17000
        ],
        [
         "Nigeria",
         "CanvasBag.Co",
         88000
        ],
        [
         "Niue",
         "PositiveFox - Community for Creative People",
         341000
        ],
        [
         "Norfolk Island",
         "Cute DIY Projects",
         301000
        ],
        [
         "Northern Mariana Islands",
         "AL.com",
         31000
        ],
        [
         "Norway",
         "epicurious",
         409000
        ],
        [
         "Oman",
         "Mindy Benkert | Simple Pure Beauty",
         69000
        ],
        [
         "Pakistan",
         "Buyer Select",
         441000
        ],
        [
         "Palau",
         "InventorSpot",
         63000
        ],
        [
         "Palestinian Territory",
         "Onedio.com",
         561000
        ],
        [
         "Panama",
         "Alanna | Periodic Adventures",
         1000
        ],
        [
         "Papua New Guinea",
         "DaytoDay Adventures | Blue Daisy | Home Decor | Crafts | Rag Rugs",
         21000
        ],
        [
         "Paraguay",
         "Godiygo",
         40000
        ],
        [
         "Peru",
         "Nashvegasmama",
         6000
        ],
        [
         "Philippines",
         "Manya Agrawal",
         15000
        ],
        [
         "Pitcairn Islands",
         "Marla Meridith",
         671000
        ],
        [
         "Poland",
         "Mosswood Connections",
         16000
        ],
        [
         "Portugal",
         "DIY Beautify - Creating beauty at home",
         56000
        ],
        [
         "Puerto Rico",
         "Stephanie Lynn",
         116000
        ],
        [
         "Qatar",
         "Hudson Farmhouse",
         45000
        ],
        [
         "Reunion",
         "eHow en Español",
         144000
        ],
        [
         "Romania",
         "Soberbadassery | Your Free Online Guide To Sober Living ",
         9000
        ],
        [
         "Russian Federation",
         "Ana White",
         1000000
        ],
        [
         "Rwanda",
         "Amy Greene | Mainly Homemade",
         24000
        ],
        [
         "Saint Barthelemy",
         "ThePinkDream",
         78000
        ],
        [
         "Saint Helena",
         "Book Riot",
         154000
        ],
        [
         "Saint Kitts and Nevis",
         "vintagetopia",
         171000
        ],
        [
         "Saint Lucia",
         "Teaching Exceptional Kinders",
         3000
        ],
        [
         "Saint Martin",
         "Organizing Made Fun",
         167000
        ],
        [
         "Saint Pierre and Miquelon",
         "DontPayFull.com | Coupons & Deals | Money-Saving Tips",
         142000
        ],
        [
         "Saint Vincent and the Grenadines",
         "SHTFPreparedness",
         380000
        ],
        [
         "Samoa",
         "Six Figures Under | Frugal Living + Family Finance +Paying off Debt",
         32000
        ],
        [
         "San Marino",
         "Sarah Joy Blog",
         125000
        ],
        [
         "Sao Tome and Principe",
         "kayyla.april",
         2000
        ],
        [
         "Saudi Arabia",
         "The Navage Patch®",
         136000
        ],
        [
         "Senegal",
         "Life-n-Reflection",
         24000
        ],
        [
         "Serbia",
         "Keitha Rankin",
         248
        ],
        [
         "Seychelles",
         "ALL FOR WOMAN",
         21000
        ],
        [
         "Sierra Leone",
         "Mindfully Gray",
         16000
        ],
        [
         "Singapore",
         "Hey Let's Make Stuff",
         88000
        ],
        [
         "Slovakia (Slovak Republic)",
         "Molly - Lucky Learning with Molly Lynch",
         21000
        ],
        [
         "Slovenia",
         "Houzz Pro",
         108000
        ],
        [
         "Solomon Islands",
         "Christy from Our Southern Home",
         81000
        ],
        [
         "Somalia",
         "Southern Hospitality",
         202000
        ],
        [
         "South Africa",
         "Bobbie Byrd | Clumsy Crafter | DIY & Crafts",
         44000
        ],
        [
         "South Georgia and the South Sandwich Islands",
         "Classic Nation",
         75000
        ],
        [
         "Spain",
         "Fred Anyona | Style and Fashion Blog | Photographer",
         3000
        ],
        [
         "Sri Lanka",
         "Abd El Hakim",
         1000
        ],
        [
         "Sudan",
         "Literacy and Math Ideas",
         63000
        ],
        [
         "Suriname",
         "Modern MOH | How to be a Head Bridesmaid in Charge",
         10000
        ],
        [
         "Svalbard & Jan Mayen Islands",
         "Merissa (Little House Living) | Simple Living + Frugal Living",
         152000
        ],
        [
         "Swaziland",
         "The Queen Life",
         6000
        ],
        [
         "Sweden",
         "ELLE Magazine (US)",
         657000
        ],
        [
         "Switzerland",
         "Top Gear",
         33000
        ],
        [
         "Syrian Arab Republic",
         "The Crafted Sparrow",
         60000
        ],
        [
         "Taiwan",
         "The Creek Line House",
         259000
        ],
        [
         "Tajikistan",
         "Fun Learning for Kids",
         217000
        ],
        [
         "Tanzania",
         "Frugal Fanatic | Save Money & Make Money",
         303000
        ],
        [
         "Thailand",
         "Becky | Clean Mama ",
         219000
        ],
        [
         "Timor-Leste",
         "Picsart",
         8000000
        ],
        [
         "Togo",
         "debra",
         4000
        ],
        [
         "Tokelau",
         "Budget Savvy Diva",
         384000
        ],
        [
         "Tonga",
         "Lucks List",
         364
        ],
        [
         "Trinidad and Tobago",
         "Uplifting Mayhem",
         66000
        ],
        [
         "Tunisia",
         "El blog amarillo",
         66000
        ],
        [
         "Turkey",
         "Tastefully Frugal",
         40000
        ],
        [
         "Turkmenistan",
         "Jennifer Maker ❤️ DIY Home Decor + Craft + Paper Flowers",
         193000
        ],
        [
         "Turks and Caicos Islands",
         "Let's Eat Cake",
         19000
        ],
        [
         "Tuvalu",
         "The Budget Babe",
         40000
        ],
        [
         "Uganda",
         "Inspired by Charm",
         3000000
        ],
        [
         "Ukraine",
         "Adventures of a DIY Mom",
         45000
        ],
        [
         "United Kingdom",
         "Becky Niebruegge",
         4000
        ],
        [
         "United States Minor Outlying Islands",
         "Bloglovin'",
         3000000
        ],
        [
         "United States Virgin Islands",
         "Ugly Duckling House | DIY, Home, Woodworking, Crafts & Recipes",
         4000000
        ],
        [
         "United States of America",
         "Evolution of Style",
         47000
        ],
        [
         "Uruguay",
         "Erin | Mother's Niche",
         97000
        ],
        [
         "Uzbekistan",
         "giil",
         57
        ],
        [
         "Vanuatu",
         "Digital Art | Fine Art | Abstract Art | Graphic Art | Photography",
         10000
        ],
        [
         "Venezuela",
         "My Poppet - A Craft, Travel & Food Blog for Colourful Living",
         100000
        ],
        [
         "Vietnam",
         "Living Well Spending Less",
         326000
        ],
        [
         "Wallis and Futuna",
         "ThriftyFun",
         161000
        ],
        [
         "Western Sahara",
         "Body Unburdened | Natural Skincare | Clear Skin | Holistic Health",
         62000
        ],
        [
         "Yemen",
         "ClioMakeUp",
         152000
        ],
        [
         "Zambia",
         "HALFTEE Layering Fashions",
         32000
        ]
       ],
       "datasetInfos": [],
       "dbfsResultPath": null,
       "isJsonSchema": true,
       "metadata": {},
       "overflow": false,
       "plotOptions": {
        "customPlotOptions": {},
        "displayType": "table",
        "pivotAggregation": null,
        "pivotColumns": null,
        "xColumns": null,
        "yColumns": null
       },
       "removedWidgets": [],
       "schema": [
        {
         "metadata": "{}",
         "name": "country",
         "type": "\"string\""
        },
        {
         "metadata": "{}",
         "name": "poster_name",
         "type": "\"string\""
        },
        {
         "metadata": "{}",
         "name": "follower_count",
         "type": "\"integer\""
        }
       ],
       "type": "table"
      }
     },
     "output_type": "display_data"
    }
   ],
   "source": [
    "## Step 1\n",
    "\n",
    "from pyspark.sql.functions import row_number\n",
    "from pyspark.sql.window import Window\n",
    "\n",
    "# Define a window partitioned by country and ordered by follower count in descending order\n",
    "window_spec = Window.partitionBy(\"country\").orderBy(col(\"follower_count\").desc())\n",
    "\n",
    "# Select the top user per country based on follower count\n",
    "df_top_user_per_country = df_pin_geo.withColumn(\"row_num\", row_number().over(window_spec)) \\\n",
    "                                    .filter(col(\"row_num\") == 1) \\\n",
    "                                    .select(\"country\", \"poster_name\", \"follower_count\")\n",
    "\n",
    "# Show the result\n",
    "#df_top_user_per_country.show()\n",
    "display(df_top_user_per_country)"
   ]
  },
  {
   "cell_type": "code",
   "execution_count": 0,
   "metadata": {
    "application/vnd.databricks.v1+cell": {
     "cellMetadata": {
      "byteLimit": 2048000,
      "rowLimit": 10000
     },
     "inputWidgets": {},
     "nuid": "0d22428c-9452-448d-9416-548200aecb15",
     "showTitle": false,
     "tableResultSettingsMap": {},
     "title": ""
    }
   },
   "outputs": [
    {
     "output_type": "display_data",
     "data": {
      "text/html": [
       "<style scoped>\n",
       "  .table-result-container {\n",
       "    max-height: 300px;\n",
       "    overflow: auto;\n",
       "  }\n",
       "  table, th, td {\n",
       "    border: 1px solid black;\n",
       "    border-collapse: collapse;\n",
       "  }\n",
       "  th, td {\n",
       "    padding: 5px;\n",
       "  }\n",
       "  th {\n",
       "    text-align: left;\n",
       "  }\n",
       "</style><div class='table-result-container'><table class='table-result'><thead style='background-color: white'><tr><th>country</th><th>follower_count</th></tr></thead><tbody><tr><td>Anguilla</td><td>15000000</td></tr></tbody></table></div>"
      ]
     },
     "metadata": {
      "application/vnd.databricks.v1+output": {
       "addedWidgets": {},
       "aggData": [],
       "aggError": "",
       "aggOverflow": false,
       "aggSchema": [],
       "aggSeriesLimitReached": false,
       "aggType": "",
       "arguments": {},
       "columnCustomDisplayInfos": {},
       "data": [
        [
         "Anguilla",
         15000000
        ]
       ],
       "datasetInfos": [],
       "dbfsResultPath": null,
       "isJsonSchema": true,
       "metadata": {},
       "overflow": false,
       "plotOptions": {
        "customPlotOptions": {},
        "displayType": "table",
        "pivotAggregation": null,
        "pivotColumns": null,
        "xColumns": null,
        "yColumns": null
       },
       "removedWidgets": [],
       "schema": [
        {
         "metadata": "{}",
         "name": "country",
         "type": "\"string\""
        },
        {
         "metadata": "{}",
         "name": "follower_count",
         "type": "\"integer\""
        }
       ],
       "type": "table"
      }
     },
     "output_type": "display_data"
    }
   ],
   "source": [
    "# Step 2\n",
    "\n",
    "# Find the country with the user with the most followers overall\n",
    "df_country_max_followers = df_top_user_per_country.orderBy(col(\"follower_count\").desc()).limit(1)\n",
    "\n",
    "# Show the result\n",
    "#df_country_max_followers.select(\"country\", \"follower_count\").show()\n",
    "display(df_country_max_followers.select(\"country\", \"follower_count\"))"
   ]
  },
  {
   "cell_type": "markdown",
   "metadata": {
    "application/vnd.databricks.v1+cell": {
     "cellMetadata": {},
     "inputWidgets": {},
     "nuid": "7fe54239-5ed0-4e97-8e45-0814850aa549",
     "showTitle": false,
     "tableResultSettingsMap": {},
     "title": ""
    }
   },
   "source": [
    "### Task 7:\n",
    "- Find the most popular category for different age groups"
   ]
  },
  {
   "cell_type": "code",
   "execution_count": 0,
   "metadata": {
    "application/vnd.databricks.v1+cell": {
     "cellMetadata": {
      "byteLimit": 2048000,
      "rowLimit": 10000
     },
     "inputWidgets": {},
     "nuid": "df85a511-452f-4a0a-88cc-3c83bbd33a91",
     "showTitle": false,
     "tableResultSettingsMap": {},
     "title": ""
    }
   },
   "outputs": [
    {
     "output_type": "display_data",
     "data": {
      "text/html": [
       "<style scoped>\n",
       "  .table-result-container {\n",
       "    max-height: 300px;\n",
       "    overflow: auto;\n",
       "  }\n",
       "  table, th, td {\n",
       "    border: 1px solid black;\n",
       "    border-collapse: collapse;\n",
       "  }\n",
       "  th, td {\n",
       "    padding: 5px;\n",
       "  }\n",
       "  th {\n",
       "    text-align: left;\n",
       "  }\n",
       "</style><div class='table-result-container'><table class='table-result'><thead style='background-color: white'><tr><th>age_group</th><th>category</th><th>category_count</th></tr></thead><tbody><tr><td>+50</td><td>mens-fashion</td><td>70</td></tr><tr><td>18-24</td><td>quotes</td><td>366</td></tr><tr><td>25-35</td><td>christmas</td><td>221</td></tr><tr><td>36-50</td><td>christmas</td><td>149</td></tr></tbody></table></div>"
      ]
     },
     "metadata": {
      "application/vnd.databricks.v1+output": {
       "addedWidgets": {},
       "aggData": [],
       "aggError": "",
       "aggOverflow": false,
       "aggSchema": [],
       "aggSeriesLimitReached": false,
       "aggType": "",
       "arguments": {},
       "columnCustomDisplayInfos": {},
       "data": [
        [
         "+50",
         "mens-fashion",
         70
        ],
        [
         "18-24",
         "quotes",
         366
        ],
        [
         "25-35",
         "christmas",
         221
        ],
        [
         "36-50",
         "christmas",
         149
        ]
       ],
       "datasetInfos": [],
       "dbfsResultPath": null,
       "isJsonSchema": true,
       "metadata": {},
       "overflow": false,
       "plotOptions": {
        "customPlotOptions": {},
        "displayType": "table",
        "pivotAggregation": null,
        "pivotColumns": null,
        "xColumns": null,
        "yColumns": null
       },
       "removedWidgets": [],
       "schema": [
        {
         "metadata": "{}",
         "name": "age_group",
         "type": "\"string\""
        },
        {
         "metadata": "{}",
         "name": "category",
         "type": "\"string\""
        },
        {
         "metadata": "{}",
         "name": "category_count",
         "type": "\"long\""
        }
       ],
       "type": "table"
      }
     },
     "output_type": "display_data"
    }
   ],
   "source": [
    "from pyspark.sql.functions import when, col, row_number\n",
    "from pyspark.sql.window import Window\n",
    "\n",
    "# Step 1: Join df_pin and df_user DataFrames\n",
    "df_pin_user = df_pin.join(df_user, df_pin[\"ind\"] == df_user[\"ind\"], how=\"inner\")\n",
    "\n",
    "# Step 2: Create age_group column based on age ranges\n",
    "df_pin_user = df_pin_user.withColumn(\n",
    "    \"age_group\",\n",
    "    when((col(\"age\") >= 18) & (col(\"age\") <= 24), \"18-24\")\n",
    "    .when((col(\"age\") >= 25) & (col(\"age\") <= 35), \"25-35\")\n",
    "    .when((col(\"age\") >= 36) & (col(\"age\") <= 50), \"36-50\")\n",
    "    .when(col(\"age\") > 50, \"+50\")\n",
    ")\n",
    "\n",
    "# Step 3: Count occurrences of each category within each age group\n",
    "df_category_count = df_pin_user.groupBy(\"age_group\", \"category\").count().withColumnRenamed(\"count\", \"category_count\")\n",
    "\n",
    "# Step 4: Define a window to get the top category for each age group\n",
    "window_spec = Window.partitionBy(\"age_group\").orderBy(col(\"category_count\").desc())\n",
    "\n",
    "# Step 5: Apply row number to get the top category for each age group and filter for the top row\n",
    "df_top_category_by_age_group = df_category_count.withColumn(\"row_num\", row_number().over(window_spec)) \\\n",
    "                                                .filter(col(\"row_num\") == 1) \\\n",
    "                                                .select(\"age_group\", \"category\", \"category_count\")\n",
    "\n",
    "# Show the result\n",
    "#df_top_category_by_age_group.show()\n",
    "display(df_top_category_by_age_group)"
   ]
  },
  {
   "cell_type": "markdown",
   "metadata": {
    "application/vnd.databricks.v1+cell": {
     "cellMetadata": {},
     "inputWidgets": {},
     "nuid": "5c806233-67e6-460a-91fb-60c9d62425a1",
     "showTitle": false,
     "tableResultSettingsMap": {},
     "title": ""
    }
   },
   "source": [
    "### Task 8:\n",
    "- Find the median follower count for different age groups"
   ]
  },
  {
   "cell_type": "code",
   "execution_count": 0,
   "metadata": {
    "application/vnd.databricks.v1+cell": {
     "cellMetadata": {
      "byteLimit": 2048000,
      "rowLimit": 10000
     },
     "inputWidgets": {},
     "nuid": "eb981c93-614b-4e00-b1dc-055c055c41e4",
     "showTitle": false,
     "tableResultSettingsMap": {},
     "title": ""
    }
   },
   "outputs": [
    {
     "output_type": "display_data",
     "data": {
      "text/html": [
       "<style scoped>\n",
       "  .table-result-container {\n",
       "    max-height: 300px;\n",
       "    overflow: auto;\n",
       "  }\n",
       "  table, th, td {\n",
       "    border: 1px solid black;\n",
       "    border-collapse: collapse;\n",
       "  }\n",
       "  th, td {\n",
       "    padding: 5px;\n",
       "  }\n",
       "  th {\n",
       "    text-align: left;\n",
       "  }\n",
       "</style><div class='table-result-container'><table class='table-result'><thead style='background-color: white'><tr><th>age_group</th><th>median_follower_count</th></tr></thead><tbody><tr><td>36-50</td><td>8000</td></tr><tr><td>+50</td><td>3000</td></tr><tr><td>18-24</td><td>166000</td></tr><tr><td>25-35</td><td>21000</td></tr></tbody></table></div>"
      ]
     },
     "metadata": {
      "application/vnd.databricks.v1+output": {
       "addedWidgets": {},
       "aggData": [],
       "aggError": "",
       "aggOverflow": false,
       "aggSchema": [],
       "aggSeriesLimitReached": false,
       "aggType": "",
       "arguments": {},
       "columnCustomDisplayInfos": {},
       "data": [
        [
         "36-50",
         8000
        ],
        [
         "+50",
         3000
        ],
        [
         "18-24",
         166000
        ],
        [
         "25-35",
         21000
        ]
       ],
       "datasetInfos": [],
       "dbfsResultPath": null,
       "isJsonSchema": true,
       "metadata": {},
       "overflow": false,
       "plotOptions": {
        "customPlotOptions": {},
        "displayType": "table",
        "pivotAggregation": null,
        "pivotColumns": null,
        "xColumns": null,
        "yColumns": null
       },
       "removedWidgets": [],
       "schema": [
        {
         "metadata": "{}",
         "name": "age_group",
         "type": "\"string\""
        },
        {
         "metadata": "{}",
         "name": "median_follower_count",
         "type": "\"integer\""
        }
       ],
       "type": "table"
      }
     },
     "output_type": "display_data"
    }
   ],
   "source": [
    "from pyspark.sql.functions import when, col, percentile_approx\n",
    "\n",
    "# Step 1: Join df_pin and df_user DataFrames if necessary (if follower count is in df_user)\n",
    "df_pin_user = df_pin.join(df_user, df_pin[\"ind\"] == df_user[\"ind\"], how=\"inner\")\n",
    "\n",
    "# Step 2: Create age_group column based on age ranges\n",
    "df_pin_user = df_pin_user.withColumn(\n",
    "    \"age_group\",\n",
    "    when((col(\"age\") >= 18) & (col(\"age\") <= 24), \"18-24\")\n",
    "    .when((col(\"age\") >= 25) & (col(\"age\") <= 35), \"25-35\")\n",
    "    .when((col(\"age\") >= 36) & (col(\"age\") <= 50), \"36-50\")\n",
    "    .when(col(\"age\") > 50, \"+50\")\n",
    ")\n",
    "\n",
    "# Step 3: Calculate the median follower count for each age group\n",
    "df_median_follower_count = df_pin_user.groupBy(\"age_group\") \\\n",
    "    .agg(percentile_approx(\"follower_count\", 0.5).alias(\"median_follower_count\"))\n",
    "\n",
    "# Show the result\n",
    "#df_median_follower_count.show()\n",
    "display(df_median_follower_count)"
   ]
  },
  {
   "cell_type": "markdown",
   "metadata": {
    "application/vnd.databricks.v1+cell": {
     "cellMetadata": {},
     "inputWidgets": {},
     "nuid": "c31810dc-1d22-4155-a2e1-1caf7350684f",
     "showTitle": false,
     "tableResultSettingsMap": {},
     "title": ""
    }
   },
   "source": [
    "### Task 9:\n",
    "- Find how many users have joined each year\n",
    "- Find how many users have joined between 2015 and 2020."
   ]
  },
  {
   "cell_type": "code",
   "execution_count": 0,
   "metadata": {
    "application/vnd.databricks.v1+cell": {
     "cellMetadata": {
      "byteLimit": 2048000,
      "rowLimit": 10000
     },
     "inputWidgets": {},
     "nuid": "3e3c1044-2e1d-48c0-93a5-e4c9f639d5f3",
     "showTitle": false,
     "tableResultSettingsMap": {},
     "title": ""
    }
   },
   "outputs": [
    {
     "output_type": "execute_result",
     "data": {
      "text/plain": [
       "['ind',\n",
       " 'unique_id',\n",
       " 'title',\n",
       " 'description',\n",
       " 'follower_count',\n",
       " 'poster_name',\n",
       " 'tag_list',\n",
       " 'is_image_or_video',\n",
       " 'image_src',\n",
       " 'save_location',\n",
       " 'category']"
      ]
     },
     "execution_count": 37,
     "metadata": {},
     "output_type": "execute_result"
    }
   ],
   "source": [
    "#df_pin_geo.columns\n",
    "#df_pin_user.columns\n",
    "df_pin.columns"
   ]
  },
  {
   "cell_type": "code",
   "execution_count": 0,
   "metadata": {
    "application/vnd.databricks.v1+cell": {
     "cellMetadata": {
      "byteLimit": 2048000,
      "rowLimit": 10000
     },
     "inputWidgets": {},
     "nuid": "3f321fc8-e12f-4239-9038-7d053f278bbf",
     "showTitle": false,
     "tableResultSettingsMap": {},
     "title": ""
    }
   },
   "outputs": [
    {
     "output_type": "display_data",
     "data": {
      "text/html": [
       "<style scoped>\n",
       "  .table-result-container {\n",
       "    max-height: 300px;\n",
       "    overflow: auto;\n",
       "  }\n",
       "  table, th, td {\n",
       "    border: 1px solid black;\n",
       "    border-collapse: collapse;\n",
       "  }\n",
       "  th, td {\n",
       "    padding: 5px;\n",
       "  }\n",
       "  th {\n",
       "    text-align: left;\n",
       "  }\n",
       "</style><div class='table-result-container'><table class='table-result'><thead style='background-color: white'><tr><th>post_year</th><th>number_users_joined</th></tr></thead><tbody><tr><td>2015</td><td>2794</td></tr><tr><td>2016</td><td>2903</td></tr><tr><td>2017</td><td>1154</td></tr></tbody></table></div>"
      ]
     },
     "metadata": {
      "application/vnd.databricks.v1+output": {
       "addedWidgets": {},
       "aggData": [],
       "aggError": "",
       "aggOverflow": false,
       "aggSchema": [],
       "aggSeriesLimitReached": false,
       "aggType": "",
       "arguments": {},
       "columnCustomDisplayInfos": {},
       "data": [
        [
         2015,
         2794
        ],
        [
         2016,
         2903
        ],
        [
         2017,
         1154
        ]
       ],
       "datasetInfos": [],
       "dbfsResultPath": null,
       "isJsonSchema": true,
       "metadata": {},
       "overflow": false,
       "plotOptions": {
        "customPlotOptions": {},
        "displayType": "table",
        "pivotAggregation": null,
        "pivotColumns": null,
        "xColumns": null,
        "yColumns": null
       },
       "removedWidgets": [],
       "schema": [
        {
         "metadata": "{}",
         "name": "post_year",
         "type": "\"integer\""
        },
        {
         "metadata": "{}",
         "name": "number_users_joined",
         "type": "\"long\""
        }
       ],
       "type": "table"
      }
     },
     "output_type": "display_data"
    }
   ],
   "source": [
    "from pyspark.sql.functions import year, col\n",
    "## 88\n",
    "# Step 1: Join df_user and df_geo on the common 'ind' column\n",
    "df_user_geo = df_user.join(df_geo, df_user[\"ind\"] == df_geo[\"ind\"], how=\"inner\")\n",
    "\n",
    "# Step 2: Extract year from the 'date_joined' column in the joined DataFrame\n",
    "df_user_geo = df_user_geo.withColumn(\"post_year\", year(\"date_joined\"))\n",
    "\n",
    "# Step 3: Filter for users who joined between 2015 and 2020\n",
    "df_user_geo_filtered = df_user_geo.filter((col(\"post_year\") >= 2015) & (col(\"post_year\") <= 2020))\n",
    "\n",
    "# Step 4: Group by post_year and count the number of users who joined in each year\n",
    "df_user_geo_joined = df_user_geo_filtered.groupBy(\"post_year\") \\\n",
    "    .count() \\\n",
    "    .withColumnRenamed(\"count\", \"number_users_joined\")\n",
    "\n",
    "# Show the result\n",
    "#df_user_geo_joined.show()\n",
    "display(df_user_geo_joined)"
   ]
  },
  {
   "cell_type": "code",
   "execution_count": 0,
   "metadata": {
    "application/vnd.databricks.v1+cell": {
     "cellMetadata": {
      "byteLimit": 2048000,
      "rowLimit": 10000
     },
     "inputWidgets": {},
     "nuid": "bb96d0b6-c145-4d1b-98ae-0bc899d017a4",
     "showTitle": false,
     "tableResultSettingsMap": {},
     "title": ""
    }
   },
   "outputs": [
    {
     "output_type": "display_data",
     "data": {
      "text/html": [
       "<style scoped>\n",
       "  .table-result-container {\n",
       "    max-height: 300px;\n",
       "    overflow: auto;\n",
       "  }\n",
       "  table, th, td {\n",
       "    border: 1px solid black;\n",
       "    border-collapse: collapse;\n",
       "  }\n",
       "  th, td {\n",
       "    padding: 5px;\n",
       "  }\n",
       "  th {\n",
       "    text-align: left;\n",
       "  }\n",
       "</style><div class='table-result-container'><table class='table-result'><thead style='background-color: white'><tr><th>pin_ind</th><th>unique_id</th><th>title</th><th>description</th><th>follower_count</th><th>poster_name</th><th>tag_list</th><th>is_image_or_video</th><th>image_src</th><th>save_location</th><th>category</th></tr></thead><tbody><tr><td>7528</td><td>fbe53c66-3442-4773-b19e-d3ec6f54dddf</td><td>null</td><td>null</td><td>null</td><td>null</td><td>null</td><td>multi-video(story page format)</td><td>null</td><td>/data/mens-fashion</td><td>mens-fashion</td></tr><tr><td>7528</td><td>fbe53c66-3442-4773-b19e-d3ec6f54dddf</td><td>null</td><td>null</td><td>null</td><td>null</td><td>null</td><td>multi-video(story page format)</td><td>null</td><td>/data/mens-fashion</td><td>mens-fashion</td></tr><tr><td>2863</td><td>9bf39437-42a6-4f02-99a0-9a0383d8cd70</td><td>25 Super Fun Summer Crafts for Kids - Of Life and Lisa</td><td>Keep the kids busy this summer with these easy diy crafts and projects. Creative and…</td><td>124000</td><td>Of Life & Lisa | Lifestyle Blog</td><td>Summer Crafts For Kids,Fun Crafts For Kids,Summer Kids,Toddler Crafts,Crafts To Do,Diy For Kids,Summer Snow,Diys For Summer,Craft Ideas For Girls</td><td>image</td><td>https://i.pinimg.com/originals/b3/bc/e2/b3bce2964e8c8975387b39660eed5f16.jpg</td><td>/data/diy-and-crafts</td><td>diy-and-crafts</td></tr><tr><td>5730</td><td>1e1f0c8b-9fcf-460b-9154-c775827206eb</td><td>Island Oasis Coupon Organizer</td><td>Description Coupon Organizer in a fun colorful fabric -island oasis, Great Size for the \"basic\" couponer - holds up to 500 coupons with ease, and is made long enough so that you… </td><td>0</td><td>Consuelo Aguirre</td><td>Grocery Items,Grocery Coupons,Care Organization,Coupon Organization,Extreme Couponing,Couponing 101,Life Binder,Save My Money,Love Coupons</td><td>image</td><td>https://i.pinimg.com/originals/65/bb/ea/65bbeaf458907bb079317d8303c4fa0e.jpg</td><td>/data/finance</td><td>finance</td></tr><tr><td>8304</td><td>5b6d0913-25e4-43ab-839d-85d5516f78a4</td><td>The #1 Reason You’re Not His Priority Anymore - Matthew Coast</td><td>#lovequotes #matchmaker #matchmadeinheaven #loveyourself #respectyourself</td><td>51000</td><td>Commitment Connection</td><td>Wise Quotes,Quotable Quotes,Words Quotes,Wise Words,Quotes To Live By,Great Quotes,Motivational Quotes,Inspirational Quotes,Funny Quotes</td><td>image</td><td>https://i.pinimg.com/originals/c6/64/ee/c664ee71524fb5a6e7b7b49233f93b43.png</td><td>/data/quotes</td><td>quotes</td></tr></tbody></table></div>"
      ]
     },
     "metadata": {
      "application/vnd.databricks.v1+output": {
       "addedWidgets": {},
       "aggData": [],
       "aggError": "",
       "aggOverflow": false,
       "aggSchema": [],
       "aggSeriesLimitReached": false,
       "aggType": "",
       "arguments": {},
       "columnCustomDisplayInfos": {},
       "data": [
        [
         7528,
         "fbe53c66-3442-4773-b19e-d3ec6f54dddf",
         null,
         null,
         null,
         null,
         null,
         "multi-video(story page format)",
         null,
         "/data/mens-fashion",
         "mens-fashion"
        ],
        [
         7528,
         "fbe53c66-3442-4773-b19e-d3ec6f54dddf",
         null,
         null,
         null,
         null,
         null,
         "multi-video(story page format)",
         null,
         "/data/mens-fashion",
         "mens-fashion"
        ],
        [
         2863,
         "9bf39437-42a6-4f02-99a0-9a0383d8cd70",
         "25 Super Fun Summer Crafts for Kids - Of Life and Lisa",
         "Keep the kids busy this summer with these easy diy crafts and projects. Creative and…",
         124000,
         "Of Life & Lisa | Lifestyle Blog",
         "Summer Crafts For Kids,Fun Crafts For Kids,Summer Kids,Toddler Crafts,Crafts To Do,Diy For Kids,Summer Snow,Diys For Summer,Craft Ideas For Girls",
         "image",
         "https://i.pinimg.com/originals/b3/bc/e2/b3bce2964e8c8975387b39660eed5f16.jpg",
         "/data/diy-and-crafts",
         "diy-and-crafts"
        ],
        [
         5730,
         "1e1f0c8b-9fcf-460b-9154-c775827206eb",
         "Island Oasis Coupon Organizer",
         "Description Coupon Organizer in a fun colorful fabric -island oasis, Great Size for the \"basic\" couponer - holds up to 500 coupons with ease, and is made long enough so that you… ",
         0,
         "Consuelo Aguirre",
         "Grocery Items,Grocery Coupons,Care Organization,Coupon Organization,Extreme Couponing,Couponing 101,Life Binder,Save My Money,Love Coupons",
         "image",
         "https://i.pinimg.com/originals/65/bb/ea/65bbeaf458907bb079317d8303c4fa0e.jpg",
         "/data/finance",
         "finance"
        ],
        [
         8304,
         "5b6d0913-25e4-43ab-839d-85d5516f78a4",
         "The #1 Reason You’re Not His Priority Anymore - Matthew Coast",
         "#lovequotes #matchmaker #matchmadeinheaven #loveyourself #respectyourself",
         51000,
         "Commitment Connection",
         "Wise Quotes,Quotable Quotes,Words Quotes,Wise Words,Quotes To Live By,Great Quotes,Motivational Quotes,Inspirational Quotes,Funny Quotes",
         "image",
         "https://i.pinimg.com/originals/c6/64/ee/c664ee71524fb5a6e7b7b49233f93b43.png",
         "/data/quotes",
         "quotes"
        ]
       ],
       "datasetInfos": [],
       "dbfsResultPath": null,
       "isJsonSchema": true,
       "metadata": {},
       "overflow": false,
       "plotOptions": {
        "customPlotOptions": {},
        "displayType": "table",
        "pivotAggregation": null,
        "pivotColumns": null,
        "xColumns": null,
        "yColumns": null
       },
       "removedWidgets": [],
       "schema": [
        {
         "metadata": "{}",
         "name": "pin_ind",
         "type": "\"long\""
        },
        {
         "metadata": "{}",
         "name": "unique_id",
         "type": "\"string\""
        },
        {
         "metadata": "{}",
         "name": "title",
         "type": "\"string\""
        },
        {
         "metadata": "{}",
         "name": "description",
         "type": "\"string\""
        },
        {
         "metadata": "{}",
         "name": "follower_count",
         "type": "\"long\""
        },
        {
         "metadata": "{}",
         "name": "poster_name",
         "type": "\"string\""
        },
        {
         "metadata": "{}",
         "name": "tag_list",
         "type": "\"string\""
        },
        {
         "metadata": "{}",
         "name": "is_image_or_video",
         "type": "\"string\""
        },
        {
         "metadata": "{}",
         "name": "image_src",
         "type": "\"string\""
        },
        {
         "metadata": "{}",
         "name": "save_location",
         "type": "\"string\""
        },
        {
         "metadata": "{}",
         "name": "category",
         "type": "\"string\""
        }
       ],
       "type": "table"
      }
     },
     "output_type": "display_data"
    }
   ],
   "source": [
    "display(df_pin.head(5))"
   ]
  },
  {
   "cell_type": "markdown",
   "metadata": {
    "application/vnd.databricks.v1+cell": {
     "cellMetadata": {},
     "inputWidgets": {},
     "nuid": "1f48cc2d-8f03-4156-88ed-5a3656a46243",
     "showTitle": false,
     "tableResultSettingsMap": {},
     "title": ""
    }
   },
   "source": [
    "### Task 10:\n",
    "- Find the median follower count of users have joined between 2015 and 2020."
   ]
  },
  {
   "cell_type": "code",
   "execution_count": 0,
   "metadata": {
    "application/vnd.databricks.v1+cell": {
     "cellMetadata": {
      "byteLimit": 2048000,
      "rowLimit": 10000
     },
     "inputWidgets": {},
     "nuid": "1072064a-f198-4edf-9aeb-c41853047af8",
     "showTitle": false,
     "tableResultSettingsMap": {},
     "title": ""
    }
   },
   "outputs": [
    {
     "output_type": "stream",
     "name": "stdout",
     "output_type": "stream",
     "text": [
      "+---------+---------------------+\n|post_year|median_follower_count|\n+---------+---------------------+\n|     2018|                27000|\n|     2019|                27000|\n|     2020|                28000|\n|     2017|                42000|\n+---------+---------------------+\n\n"
     ]
    },
    {
     "output_type": "display_data",
     "data": {
      "text/html": [
       "<style scoped>\n",
       "  .table-result-container {\n",
       "    max-height: 300px;\n",
       "    overflow: auto;\n",
       "  }\n",
       "  table, th, td {\n",
       "    border: 1px solid black;\n",
       "    border-collapse: collapse;\n",
       "  }\n",
       "  th, td {\n",
       "    padding: 5px;\n",
       "  }\n",
       "  th {\n",
       "    text-align: left;\n",
       "  }\n",
       "</style><div class='table-result-container'><table class='table-result'><thead style='background-color: white'><tr><th>post_year</th><th>median_follower_count</th></tr></thead><tbody><tr><td>2018</td><td>27000</td></tr><tr><td>2019</td><td>27000</td></tr><tr><td>2020</td><td>28000</td></tr><tr><td>2017</td><td>42000</td></tr></tbody></table></div>"
      ]
     },
     "metadata": {
      "application/vnd.databricks.v1+output": {
       "addedWidgets": {},
       "aggData": [],
       "aggError": "",
       "aggOverflow": false,
       "aggSchema": [],
       "aggSeriesLimitReached": false,
       "aggType": "",
       "arguments": {},
       "columnCustomDisplayInfos": {},
       "data": [
        [
         2018,
         27000
        ],
        [
         2019,
         27000
        ],
        [
         2020,
         28000
        ],
        [
         2017,
         42000
        ]
       ],
       "datasetInfos": [],
       "dbfsResultPath": null,
       "isJsonSchema": true,
       "metadata": {},
       "overflow": false,
       "plotOptions": {
        "customPlotOptions": {},
        "displayType": "table",
        "pivotAggregation": null,
        "pivotColumns": null,
        "xColumns": null,
        "yColumns": null
       },
       "removedWidgets": [],
       "schema": [
        {
         "metadata": "{}",
         "name": "post_year",
         "type": "\"integer\""
        },
        {
         "metadata": "{}",
         "name": "median_follower_count",
         "type": "\"integer\""
        }
       ],
       "type": "table"
      }
     },
     "output_type": "display_data"
    }
   ],
   "source": [
    "from pyspark.sql.functions import year, col, when, percentile_approx\n",
    "\n",
    "# Step 1: Join df_pin, df_user, and df_geo DataFrames (assume follower count is in df_user and timestamp is in df_geo)\n",
    "df_pin_user_geo = df_pin.join(df_user, df_pin[\"pin_ind\"] == df_user[\"ind\"], how=\"inner\") \\\n",
    "                        .join(df_geo, df_pin[\"pin_ind\"] == df_geo[\"ind\"], how=\"inner\")\n",
    "\n",
    "# Step 2: Extract year from the 'timestamp' column in df_geo and create a new column called 'post_year'\n",
    "df_pin_user_geo = df_pin_user_geo.withColumn(\"post_year\", year(\"timestamp\"))\n",
    "\n",
    "# Step 3: Filter for users who joined between 2015 and 2020\n",
    "df_pin_user_geo_filtered = df_pin_user_geo.filter((col(\"post_year\") >= 2015) & (col(\"post_year\") <= 2020))\n",
    "\n",
    "# Step 4: Calculate the median follower count for each post_year\n",
    "df_median_follower_count = df_pin_user_geo_filtered.groupBy(\"post_year\") \\\n",
    "    .agg(percentile_approx(\"follower_count\", 0.5).alias(\"median_follower_count\"))\n",
    "\n",
    "# Show the result\n",
    "#df_median_follower_count.show()\n",
    "display(df_median_follower_count)"
   ]
  },
  {
   "cell_type": "markdown",
   "metadata": {
    "application/vnd.databricks.v1+cell": {
     "cellMetadata": {},
     "inputWidgets": {},
     "nuid": "70df17c3-8d9b-46fd-9c9c-816e81c656e6",
     "showTitle": false,
     "tableResultSettingsMap": {},
     "title": ""
    }
   },
   "source": [
    "### Task 11:\n",
    "\n",
    "- Find the median follower count of users based on their joining year and age group."
   ]
  },
  {
   "cell_type": "code",
   "execution_count": 0,
   "metadata": {
    "application/vnd.databricks.v1+cell": {
     "cellMetadata": {
      "byteLimit": 2048000,
      "rowLimit": 10000
     },
     "inputWidgets": {},
     "nuid": "2b1b64d8-ded0-4646-a805-58eb531a254c",
     "showTitle": false,
     "tableResultSettingsMap": {},
     "title": ""
    }
   },
   "outputs": [
    {
     "output_type": "stream",
     "name": "stdout",
     "output_type": "stream",
     "text": [
      "+---------+---------+---------------------+\n|age_group|post_year|median_follower_count|\n+---------+---------+---------------------+\n|    25-35|     2017|                89000|\n|    36-50|     2019|                 7000|\n|    36-50|     2018|                17000|\n|      +50|     2018|                  443|\n|    25-35|     2020|                17000|\n|    36-50|     2020|                 6000|\n|    36-50|     2017|                91000|\n|      +50|     2020|                17000|\n|    18-24|     2019|               130000|\n|    18-24|     2020|               301000|\n|    25-35|     2019|                27000|\n|      +50|     2017|                 5000|\n|    25-35|     2018|                18000|\n|    18-24|     2018|               134000|\n|      +50|     2019|                 7000|\n|    18-24|     2017|                92000|\n+---------+---------+---------------------+\n\n"
     ]
    },
    {
     "output_type": "display_data",
     "data": {
      "text/html": [
       "<style scoped>\n",
       "  .table-result-container {\n",
       "    max-height: 300px;\n",
       "    overflow: auto;\n",
       "  }\n",
       "  table, th, td {\n",
       "    border: 1px solid black;\n",
       "    border-collapse: collapse;\n",
       "  }\n",
       "  th, td {\n",
       "    padding: 5px;\n",
       "  }\n",
       "  th {\n",
       "    text-align: left;\n",
       "  }\n",
       "</style><div class='table-result-container'><table class='table-result'><thead style='background-color: white'><tr><th>age_group</th><th>post_year</th><th>median_follower_count</th></tr></thead><tbody><tr><td>25-35</td><td>2017</td><td>89000</td></tr><tr><td>36-50</td><td>2019</td><td>7000</td></tr><tr><td>36-50</td><td>2018</td><td>17000</td></tr><tr><td>+50</td><td>2018</td><td>443</td></tr><tr><td>25-35</td><td>2020</td><td>17000</td></tr><tr><td>36-50</td><td>2020</td><td>6000</td></tr><tr><td>36-50</td><td>2017</td><td>91000</td></tr><tr><td>+50</td><td>2020</td><td>17000</td></tr><tr><td>18-24</td><td>2019</td><td>130000</td></tr><tr><td>18-24</td><td>2020</td><td>301000</td></tr><tr><td>25-35</td><td>2019</td><td>27000</td></tr><tr><td>+50</td><td>2017</td><td>5000</td></tr><tr><td>25-35</td><td>2018</td><td>18000</td></tr><tr><td>18-24</td><td>2018</td><td>134000</td></tr><tr><td>+50</td><td>2019</td><td>7000</td></tr><tr><td>18-24</td><td>2017</td><td>92000</td></tr></tbody></table></div>"
      ]
     },
     "metadata": {
      "application/vnd.databricks.v1+output": {
       "addedWidgets": {},
       "aggData": [],
       "aggError": "",
       "aggOverflow": false,
       "aggSchema": [],
       "aggSeriesLimitReached": false,
       "aggType": "",
       "arguments": {},
       "columnCustomDisplayInfos": {},
       "data": [
        [
         "25-35",
         2017,
         89000
        ],
        [
         "36-50",
         2019,
         7000
        ],
        [
         "36-50",
         2018,
         17000
        ],
        [
         "+50",
         2018,
         443
        ],
        [
         "25-35",
         2020,
         17000
        ],
        [
         "36-50",
         2020,
         6000
        ],
        [
         "36-50",
         2017,
         91000
        ],
        [
         "+50",
         2020,
         17000
        ],
        [
         "18-24",
         2019,
         130000
        ],
        [
         "18-24",
         2020,
         301000
        ],
        [
         "25-35",
         2019,
         27000
        ],
        [
         "+50",
         2017,
         5000
        ],
        [
         "25-35",
         2018,
         18000
        ],
        [
         "18-24",
         2018,
         134000
        ],
        [
         "+50",
         2019,
         7000
        ],
        [
         "18-24",
         2017,
         92000
        ]
       ],
       "datasetInfos": [],
       "dbfsResultPath": null,
       "isJsonSchema": true,
       "metadata": {},
       "overflow": false,
       "plotOptions": {
        "customPlotOptions": {},
        "displayType": "table",
        "pivotAggregation": null,
        "pivotColumns": null,
        "xColumns": null,
        "yColumns": null
       },
       "removedWidgets": [],
       "schema": [
        {
         "metadata": "{}",
         "name": "age_group",
         "type": "\"string\""
        },
        {
         "metadata": "{}",
         "name": "post_year",
         "type": "\"integer\""
        },
        {
         "metadata": "{}",
         "name": "median_follower_count",
         "type": "\"integer\""
        }
       ],
       "type": "table"
      }
     },
     "output_type": "display_data"
    }
   ],
   "source": [
    "from pyspark.sql.functions import year, col, when, percentile_approx\n",
    "\n",
    "# Step 1: Join df_pin, df_user, and df_geo DataFrames (assume follower count is in df_user and timestamp is in df_geo)\n",
    "df_pin_user_geo = df_pin.join(df_user, df_pin[\"pin_ind\"] == df_user[\"ind\"], how=\"inner\") \\\n",
    "                        .join(df_geo, df_pin[\"pin_ind\"] == df_geo[\"ind\"], how=\"inner\")\n",
    "\n",
    "# Step 2: Create age_group column based on the original age column\n",
    "df_pin_user_geo = df_pin_user_geo.withColumn(\n",
    "    \"age_group\",\n",
    "    when((col(\"age\") >= 18) & (col(\"age\") <= 24), \"18-24\")\n",
    "    .when((col(\"age\") >= 25) & (col(\"age\") <= 35), \"25-35\")\n",
    "    .when((col(\"age\") >= 36) & (col(\"age\") <= 50), \"36-50\")\n",
    "    .when(col(\"age\") > 50, \"+50\")\n",
    ")\n",
    "\n",
    "# Step 3: Extract year from the 'timestamp' column in df_geo and create a new column called 'post_year'\n",
    "df_pin_user_geo = df_pin_user_geo.withColumn(\"post_year\", year(\"timestamp\"))\n",
    "\n",
    "# Step 4: Filter for users who joined between 2015 and 2020\n",
    "df_pin_user_geo_filtered = df_pin_user_geo.filter((col(\"post_year\") >= 2015) & (col(\"post_year\") <= 2020))\n",
    "\n",
    "# Step 5: Calculate the median follower count for each age_group and post_year\n",
    "df_median_follower_count = df_pin_user_geo_filtered.groupBy(\"age_group\", \"post_year\") \\\n",
    "    .agg(percentile_approx(\"follower_count\", 0.5).alias(\"median_follower_count\"))\n",
    "\n",
    "# Show the result\n",
    "#df_median_follower_count.show()\n",
    "display(df_median_follower_count)"
   ]
  }
 ],
 "metadata": {
  "application/vnd.databricks.v1+notebook": {
   "dashboards": [],
   "environmentMetadata": {
    "base_environment": "",
    "client": "1"
   },
   "language": "python",
   "notebookMetadata": {
    "mostRecentlyExecutedCommandWithImplicitDF": {
     "commandId": 323447079090045,
     "dataframes": [
      "_sqldf"
     ]
    },
    "pythonIndentUnit": 2
   },
   "notebookName": "Queries",
   "widgets": {}
  },
  "language_info": {
   "name": "python"
  }
 },
 "nbformat": 4,
 "nbformat_minor": 0
}
